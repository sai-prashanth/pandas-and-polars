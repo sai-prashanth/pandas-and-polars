{
 "cells": [
  {
   "cell_type": "code",
   "execution_count": 1,
   "metadata": {
    "slideshow": {
     "slide_type": "slide"
    },
    "tags": []
   },
   "outputs": [],
   "source": [
    "import pandas as pd\n",
    "import numpy as np\n",
    "import polars as pl\n",
    "import pyarrow as pa"
   ]
  },
  {
   "cell_type": "markdown",
   "metadata": {},
   "source": [
    "**Goal**: \n",
    "\n",
    "A quick introduction to Polars, a new DataFrame library. ~~Later we will compare the performance of Polars with Pandas. ~~\n",
    "\n",
    "**Links**:\n",
    "- [discovering polars library](https://python.plainenglish.io/discovering-polars-library-1d63c1eefb44)\n",
    "- [polars user guide](https://pola-rs.github.io/polars-book/user-guide/#philosophy)\n",
    "\n",
    "\n",
    "### Polars introduction\n",
    "- 2020, Ritchie Vink\n",
    "- Written in Rust\n",
    "- Uses all CPU cores available\n",
    "\n",
    "Polars is a lightning-fast DataFrame library for Rust and Python. Built from ground up in Rust and uses Apache Arrow implementation. \n",
    "\n",
    "Dask, Modin are other libraries that are built on top of Pandas. Polars is built from ground up and is not a wrapper around Pandas.\n",
    "\n",
    "- optimizes queries to reduce unneeded memomry allocations \n",
    "- reduces redudant copies \n",
    "- processes data in chunks and uses all available cores - parallel execution\n",
    "- supports lazy evaluation - query is executed only when the result is needed (has eager evaluation as well similar to pandas)\n",
    "\n",
    "#### Load data\n",
    "Polars also supports most of the major I/O formats like csv, json, parquet, database etc.\n",
    "\n",
    "\n",
    "Dateset: Chicago crime records from the Chicago Police Department [Data Source](https://data.cityofchicago.org/Public-Safety/Crimes-2022/9hwr-2zxp)"
   ]
  },
  {
   "cell_type": "code",
   "execution_count": 3,
   "metadata": {},
   "outputs": [
    {
     "data": {
      "text/html": [
       "<div><style>\n",
       ".dataframe > thead > tr > th,\n",
       ".dataframe > tbody > tr > td {\n",
       "  text-align: right;\n",
       "}\n",
       "</style>\n",
       "<small>shape: (5, 22)</small><table border=\"1\" class=\"dataframe\"><thead><tr><th>ID</th><th>Case Number</th><th>Date</th><th>Block</th><th>IUCR</th><th>Primary Type</th><th>Description</th><th>Location Description</th><th>Arrest</th><th>Domestic</th><th>Beat</th><th>District</th><th>Ward</th><th>Community Area</th><th>FBI Code</th><th>X Coordinate</th><th>Y Coordinate</th><th>Year</th><th>Updated On</th><th>Latitude</th><th>Longitude</th><th>Location</th></tr><tr><td>i64</td><td>str</td><td>str</td><td>str</td><td>str</td><td>str</td><td>str</td><td>str</td><td>bool</td><td>bool</td><td>i64</td><td>i64</td><td>i64</td><td>i64</td><td>str</td><td>i64</td><td>i64</td><td>i64</td><td>str</td><td>f64</td><td>f64</td><td>str</td></tr></thead><tbody><tr><td>12751203</td><td>&quot;JF305497&quot;</td><td>&quot;07/04/2022 10:…</td><td>&quot;004XX E 40TH S…</td><td>&quot;1310&quot;</td><td>&quot;CRIMINAL DAMAG…</td><td>&quot;TO PROPERTY&quot;</td><td>&quot;APARTMENT&quot;</td><td>true</td><td>true</td><td>214</td><td>2</td><td>3</td><td>38</td><td>&quot;14&quot;</td><td>1180017</td><td>1878243</td><td>2022</td><td>&quot;07/24/2022 04:…</td><td>41.82117</td><td>-87.615115</td><td>&quot;(41.821170402,…</td></tr><tr><td>12756673</td><td>&quot;JF312128&quot;</td><td>&quot;07/10/2022 11:…</td><td>&quot;039XX W CHICAG…</td><td>&quot;0430&quot;</td><td>&quot;BATTERY&quot;</td><td>&quot;AGGRAVATED - O…</td><td>&quot;RESTAURANT&quot;</td><td>false</td><td>false</td><td>1112</td><td>11</td><td>37</td><td>23</td><td>&quot;04B&quot;</td><td>1149770</td><td>1905050</td><td>2022</td><td>&quot;07/24/2022 04:…</td><td>41.895372</td><td>-87.725381</td><td>&quot;(41.895372283,…</td></tr><tr><td>12768448</td><td>&quot;JF326144&quot;</td><td>&quot;06/24/2022 12:…</td><td>&quot;081XX S GREEN …</td><td>&quot;1150&quot;</td><td>&quot;DECEPTIVE PRAC…</td><td>&quot;CREDIT CARD FR…</td><td>&quot;APARTMENT&quot;</td><td>false</td><td>false</td><td>613</td><td>6</td><td>21</td><td>71</td><td>&quot;11&quot;</td><td>1172054</td><td>1850887</td><td>2022</td><td>&quot;07/24/2022 04:…</td><td>41.746281</td><td>-87.645131</td><td>&quot;(41.746281377,…</td></tr><tr><td>12767303</td><td>&quot;JF324716&quot;</td><td>&quot;07/17/2022 05:…</td><td>&quot;045XX S DREXEL…</td><td>&quot;0820&quot;</td><td>&quot;THEFT&quot;</td><td>&quot;$500 AND UNDER…</td><td>&quot;RESIDENCE - PO…</td><td>false</td><td>false</td><td>222</td><td>2</td><td>4</td><td>39</td><td>&quot;06&quot;</td><td>1183084</td><td>1875126</td><td>2022</td><td>&quot;07/24/2022 04:…</td><td>41.812546</td><td>-87.603961</td><td>&quot;(41.812546224,…</td></tr><tr><td>12763448</td><td>&quot;JF320476&quot;</td><td>&quot;07/17/2022 08:…</td><td>&quot;032XX N CLARK …</td><td>&quot;0860&quot;</td><td>&quot;THEFT&quot;</td><td>&quot;RETAIL THEFT&quot;</td><td>&quot;DEPARTMENT STO…</td><td>false</td><td>false</td><td>1924</td><td>19</td><td>44</td><td>6</td><td>&quot;06&quot;</td><td>1169868</td><td>1921628</td><td>2022</td><td>&quot;07/24/2022 04:…</td><td>41.940449</td><td>-87.651082</td><td>&quot;(41.94044868, …</td></tr></tbody></table></div>"
      ],
      "text/plain": [
       "shape: (5, 22)\n",
       "┌──────────┬───────────┬────────────┬───────────┬───┬──────────┬───────────┬───────────┬───────────┐\n",
       "│ ID       ┆ Case      ┆ Date       ┆ Block     ┆ … ┆ Updated  ┆ Latitude  ┆ Longitude ┆ Location  │\n",
       "│ ---      ┆ Number    ┆ ---        ┆ ---       ┆   ┆ On       ┆ ---       ┆ ---       ┆ ---       │\n",
       "│ i64      ┆ ---       ┆ str        ┆ str       ┆   ┆ ---      ┆ f64       ┆ f64       ┆ str       │\n",
       "│          ┆ str       ┆            ┆           ┆   ┆ str      ┆           ┆           ┆           │\n",
       "╞══════════╪═══════════╪════════════╪═══════════╪═══╪══════════╪═══════════╪═══════════╪═══════════╡\n",
       "│ 12751203 ┆ JF305497  ┆ 07/04/2022 ┆ 004XX E   ┆ … ┆ 07/24/20 ┆ 41.82117  ┆ -87.61511 ┆ (41.82117 │\n",
       "│          ┆           ┆ 10:57:00   ┆ 40TH ST   ┆   ┆ 22       ┆           ┆ 5         ┆ 0402, -87 │\n",
       "│          ┆           ┆ PM         ┆           ┆   ┆ 04:47:33 ┆           ┆           ┆ .61511542 │\n",
       "│          ┆           ┆            ┆           ┆   ┆ PM       ┆           ┆           ┆ 1)        │\n",
       "│ 12756673 ┆ JF312128  ┆ 07/10/2022 ┆ 039XX W   ┆ … ┆ 07/24/20 ┆ 41.895372 ┆ -87.72538 ┆ (41.89537 │\n",
       "│          ┆           ┆ 11:48:00   ┆ CHICAGO   ┆   ┆ 22       ┆           ┆ 1         ┆ 2283, -87 │\n",
       "│          ┆           ┆ AM         ┆ AVE       ┆   ┆ 04:47:33 ┆           ┆           ┆ .72538084 │\n",
       "│          ┆           ┆            ┆           ┆   ┆ PM       ┆           ┆           ┆ 3)        │\n",
       "│ 12768448 ┆ JF326144  ┆ 06/24/2022 ┆ 081XX S   ┆ … ┆ 07/24/20 ┆ 41.746281 ┆ -87.64513 ┆ (41.74628 │\n",
       "│          ┆           ┆ 12:00:00   ┆ GREEN ST  ┆   ┆ 22       ┆           ┆ 1         ┆ 1377, -87 │\n",
       "│          ┆           ┆ AM         ┆           ┆   ┆ 04:47:33 ┆           ┆           ┆ .64513073 │\n",
       "│          ┆           ┆            ┆           ┆   ┆ PM       ┆           ┆           ┆ 3)        │\n",
       "│ 12767303 ┆ JF324716  ┆ 07/17/2022 ┆ 045XX S   ┆ … ┆ 07/24/20 ┆ 41.812546 ┆ -87.60396 ┆ (41.81254 │\n",
       "│          ┆           ┆ 05:10:00   ┆ DREXEL    ┆   ┆ 22       ┆           ┆ 1         ┆ 6224, -87 │\n",
       "│          ┆           ┆ PM         ┆ BLVD      ┆   ┆ 04:49:35 ┆           ┆           ┆ .60396133 │\n",
       "│          ┆           ┆            ┆           ┆   ┆ PM       ┆           ┆           ┆ 2)        │\n",
       "│ 12763448 ┆ JF320476  ┆ 07/17/2022 ┆ 032XX N   ┆ … ┆ 07/24/20 ┆ 41.940449 ┆ -87.65108 ┆ (41.94044 │\n",
       "│          ┆           ┆ 08:25:00   ┆ CLARK ST  ┆   ┆ 22       ┆           ┆ 2         ┆ 868, -87. │\n",
       "│          ┆           ┆ AM         ┆           ┆   ┆ 04:49:35 ┆           ┆           ┆ 651081589 │\n",
       "│          ┆           ┆            ┆           ┆   ┆ PM       ┆           ┆           ┆ )         │\n",
       "└──────────┴───────────┴────────────┴───────────┴───┴──────────┴───────────┴───────────┴───────────┘"
      ]
     },
     "execution_count": 3,
     "metadata": {},
     "output_type": "execute_result"
    }
   ],
   "source": [
    "file_path = \"ChicagoCrimes2022.csv\"  # Partial 2022 data 01 Jan to 22 August 2022\n",
    "# file_path = \"Crimes_-_2001_to_Present.csv\" # Full data from Jan 2018 to 12 June 2023 \n",
    "\n",
    "df = pl.read_csv(file_path)\n",
    "df.head()"
   ]
  },
  {
   "cell_type": "code",
   "execution_count": 5,
   "metadata": {},
   "outputs": [
    {
     "data": {
      "text/plain": [
       "143185"
      ]
     },
     "execution_count": 5,
     "metadata": {},
     "output_type": "execute_result"
    }
   ],
   "source": [
    "# get the number of rows in the dataframe\n",
    "len(df)"
   ]
  },
  {
   "cell_type": "code",
   "execution_count": 6,
   "metadata": {},
   "outputs": [
    {
     "data": {
      "text/plain": [
       "[Int64,\n",
       " Utf8,\n",
       " Utf8,\n",
       " Utf8,\n",
       " Utf8,\n",
       " Utf8,\n",
       " Utf8,\n",
       " Utf8,\n",
       " Boolean,\n",
       " Boolean,\n",
       " Int64,\n",
       " Int64,\n",
       " Int64,\n",
       " Int64,\n",
       " Utf8,\n",
       " Int64,\n",
       " Int64,\n",
       " Int64,\n",
       " Utf8,\n",
       " Float64,\n",
       " Float64,\n",
       " Utf8]"
      ]
     },
     "execution_count": 6,
     "metadata": {},
     "output_type": "execute_result"
    }
   ],
   "source": [
    "# get the data types of teh columns \n",
    "df.dtypes"
   ]
  },
  {
   "cell_type": "code",
   "execution_count": 9,
   "metadata": {},
   "outputs": [
    {
     "name": "stdout",
     "output_type": "stream",
     "text": [
      "shape: (2, 22)\n",
      "┌──────────┬───────────┬────────────┬───────────┬───┬──────────┬───────────┬───────────┬───────────┐\n",
      "│ ID       ┆ Case      ┆ Date       ┆ Block     ┆ … ┆ Updated  ┆ Latitude  ┆ Longitude ┆ Location  │\n",
      "│ ---      ┆ Number    ┆ ---        ┆ ---       ┆   ┆ On       ┆ ---       ┆ ---       ┆ ---       │\n",
      "│ i64      ┆ ---       ┆ str        ┆ str       ┆   ┆ ---      ┆ f64       ┆ f64       ┆ str       │\n",
      "│          ┆ str       ┆            ┆           ┆   ┆ str      ┆           ┆           ┆           │\n",
      "╞══════════╪═══════════╪════════════╪═══════════╪═══╪══════════╪═══════════╪═══════════╪═══════════╡\n",
      "│ 12751203 ┆ JF305497  ┆ 07/04/2022 ┆ 004XX E   ┆ … ┆ 07/24/20 ┆ 41.82117  ┆ -87.61511 ┆ (41.82117 │\n",
      "│          ┆           ┆ 10:57:00   ┆ 40TH ST   ┆   ┆ 22       ┆           ┆ 5         ┆ 0402, -87 │\n",
      "│          ┆           ┆ PM         ┆           ┆   ┆ 04:47:33 ┆           ┆           ┆ .61511542 │\n",
      "│          ┆           ┆            ┆           ┆   ┆ PM       ┆           ┆           ┆ 1)        │\n",
      "│ 12756673 ┆ JF312128  ┆ 07/10/2022 ┆ 039XX W   ┆ … ┆ 07/24/20 ┆ 41.895372 ┆ -87.72538 ┆ (41.89537 │\n",
      "│          ┆           ┆ 11:48:00   ┆ CHICAGO   ┆   ┆ 22       ┆           ┆ 1         ┆ 2283, -87 │\n",
      "│          ┆           ┆ AM         ┆ AVE       ┆   ┆ 04:47:33 ┆           ┆           ┆ .72538084 │\n",
      "│          ┆           ┆            ┆           ┆   ┆ PM       ┆           ┆           ┆ 3)        │\n",
      "└──────────┴───────────┴────────────┴───────────┴───┴──────────┴───────────┴───────────┴───────────┘\n"
     ]
    }
   ],
   "source": [
    "# polars pretty prints the dataframe\n",
    "print(df.head(2))"
   ]
  },
  {
   "cell_type": "code",
   "execution_count": 60,
   "metadata": {},
   "outputs": [
    {
     "name": "stdout",
     "output_type": "stream",
     "text": [
      "7.46 ms ± 1.03 ms per loop (mean ± std. dev. of 7 runs, 100 loops each)\n"
     ]
    }
   ],
   "source": [
    "# %%timeit\n",
    "\n",
    "# get the value counts by type of case \n",
    "df['Primary Type'].value_counts()"
   ]
  },
  {
   "cell_type": "code",
   "execution_count": 21,
   "metadata": {},
   "outputs": [
    {
     "data": {
      "text/html": [
       "col(\"Arrest\").sum()"
      ],
      "text/plain": [
       "<polars.expr.expr.Expr at 0x19928df7280>"
      ]
     },
     "execution_count": 21,
     "metadata": {},
     "output_type": "execute_result"
    }
   ],
   "source": [
    "# can create expressions independent of the dataframe\n",
    "num_arrests = (pl.col('Arrest').sum())\n",
    "num_arrests"
   ]
  },
  {
   "cell_type": "code",
   "execution_count": 26,
   "metadata": {},
   "outputs": [
    {
     "name": "stdout",
     "output_type": "stream",
     "text": [
      "shape: (1, 1)\n",
      "┌────────┐\n",
      "│ Arrest │\n",
      "│ ---    │\n",
      "│ u32    │\n",
      "╞════════╡\n",
      "│ 16931  │\n",
      "└────────┘\n"
     ]
    }
   ],
   "source": [
    "# apply an expression to the dataframe using select \n",
    "print(df.select(num_arrests))"
   ]
  },
  {
   "cell_type": "code",
   "execution_count": 53,
   "metadata": {},
   "outputs": [],
   "source": [
    "plan = (\n",
    "        df\n",
    "        .lazy()\n",
    "        .filter(pl.col('Block').str.contains('VAN BUREN'))\n",
    "        .groupby('Primary Type')\n",
    "        .agg([num_arrests.alias('num_arrests')])\n",
    "        .sort('num_arrests', descending=True)\n",
    "        .head(5)\n",
    "    )"
   ]
  },
  {
   "cell_type": "code",
   "execution_count": 58,
   "metadata": {},
   "outputs": [
    {
     "data": {
      "text/plain": [
       "'SORT BY [col(\"num_arrests\")]\\n  AGGREGATE\\n  \\t[col(\"Arrest\").sum().alias(\"num_arrests\")] BY [col(\"Primary Type\")] FROM\\n  \\tDF [\"ID\", \"Case Number\", \"Date\", \"Block\"]; PROJECT 3/22 COLUMNS; SELECTION: \"col(\\\\\"Block\\\\\").str.contains([Utf8(VAN BUREN)])\"'"
      ]
     },
     "execution_count": 58,
     "metadata": {},
     "output_type": "execute_result"
    }
   ],
   "source": [
    "plan.explain(optimized=True)"
   ]
  },
  {
   "cell_type": "code",
   "execution_count": 57,
   "metadata": {},
   "outputs": [
    {
     "data": {
      "image/svg+xml": [
       "<svg xmlns=\"http://www.w3.org/2000/svg\" xmlns:xlink=\"http://www.w3.org/1999/xlink\" width=\"290pt\" height=\"222pt\" viewBox=\"0.00 0.00 290.00 222.00\">\n",
       "<g id=\"graph0\" class=\"graph\" transform=\"scale(1 1) rotate(0) translate(4 218)\">\n",
       "<title>polars_query</title>\n",
       "<polygon fill=\"white\" stroke=\"transparent\" points=\"-4,4 -4,-218 286,-218 286,4 -4,4\"/>\n",
       "<!-- SORT BY [col(&quot;num_arrests&quot;)] [(0, 0)] -->\n",
       "<g id=\"node1\" class=\"node\">\n",
       "<title>SORT BY [col(&quot;num_arrests&quot;)] [(0, 0)]</title>\n",
       "<polygon fill=\"none\" stroke=\"black\" points=\"236,-214 46,-214 46,-178 236,-178 236,-214\"/>\n",
       "<text text-anchor=\"middle\" x=\"141\" y=\"-192.3\" font-family=\"Times New Roman,serif\" font-size=\"14.00\">SORT BY [col(&quot;num_arrests&quot;)]</text>\n",
       "</g>\n",
       "<!-- AGG [col(&quot;Arrest&quot;).sum().alias(&quot;num_arrests&quot;)]\n",
       "BY\n",
       "[col(&quot;Primary Type&quot;)] [(0, 1)] [(0, 1)] -->\n",
       "<g id=\"node2\" class=\"node\">\n",
       "<title>AGG [col(&quot;Arrest&quot;).sum().alias(&quot;num_arrests&quot;)]\n",
       "BY\n",
       "[col(&quot;Primary Type&quot;)] [(0, 1)] [(0, 1)]</title>\n",
       "<polygon fill=\"none\" stroke=\"black\" points=\"282,-142 0,-142 0,-89 282,-89 282,-142\"/>\n",
       "<text text-anchor=\"middle\" x=\"141\" y=\"-126.8\" font-family=\"Times New Roman,serif\" font-size=\"14.00\">AGG [col(&quot;Arrest&quot;).sum().alias(&quot;num_arrests&quot;)]</text>\n",
       "<text text-anchor=\"middle\" x=\"141\" y=\"-111.8\" font-family=\"Times New Roman,serif\" font-size=\"14.00\">BY</text>\n",
       "<text text-anchor=\"middle\" x=\"141\" y=\"-96.8\" font-family=\"Times New Roman,serif\" font-size=\"14.00\">[col(&quot;Primary Type&quot;)] [(0, 1)]</text>\n",
       "</g>\n",
       "<!-- SORT BY [col(&quot;num_arrests&quot;)] [(0, 0)]&#45;&#45;AGG [col(&quot;Arrest&quot;).sum().alias(&quot;num_arrests&quot;)]\n",
       "BY\n",
       "[col(&quot;Primary Type&quot;)] [(0, 1)] [(0, 1)] -->\n",
       "<g id=\"edge1\" class=\"edge\">\n",
       "<title>SORT BY [col(&quot;num_arrests&quot;)] [(0, 0)]--AGG [col(&quot;Arrest&quot;).sum().alias(&quot;num_arrests&quot;)]\n",
       "BY\n",
       "[col(&quot;Primary Type&quot;)] [(0, 1)] [(0, 1)]</title>\n",
       "<path fill=\"none\" stroke=\"black\" d=\"M141,-177.97C141,-167.51 141,-153.9 141,-142.16\"/>\n",
       "</g>\n",
       "<!-- TABLE\n",
       "π 3/22;\n",
       "σ col(&quot;Block&quot;).str.contains...; [(0, 2)] -->\n",
       "<g id=\"node3\" class=\"node\">\n",
       "<title>TABLE\n",
       "π 3/22;\n",
       "σ col(&quot;Block&quot;).str.contains...; [(0, 2)]</title>\n",
       "<polygon fill=\"none\" stroke=\"black\" points=\"230,-53 52,-53 52,0 230,0 230,-53\"/>\n",
       "<text text-anchor=\"middle\" x=\"141\" y=\"-37.8\" font-family=\"Times New Roman,serif\" font-size=\"14.00\">TABLE</text>\n",
       "<text text-anchor=\"middle\" x=\"141\" y=\"-22.8\" font-family=\"Times New Roman,serif\" font-size=\"14.00\">π 3/22;</text>\n",
       "<text text-anchor=\"middle\" x=\"141\" y=\"-7.8\" font-family=\"Times New Roman,serif\" font-size=\"14.00\">σ col(&quot;Block&quot;).str.contains...;</text>\n",
       "</g>\n",
       "<!-- AGG [col(&quot;Arrest&quot;).sum().alias(&quot;num_arrests&quot;)]\n",
       "BY\n",
       "[col(&quot;Primary Type&quot;)] [(0, 1)] [(0, 1)]&#45;&#45;TABLE\n",
       "π 3/22;\n",
       "σ col(&quot;Block&quot;).str.contains...; [(0, 2)] -->\n",
       "<g id=\"edge2\" class=\"edge\">\n",
       "<title>AGG [col(&quot;Arrest&quot;).sum().alias(&quot;num_arrests&quot;)]\n",
       "BY\n",
       "[col(&quot;Primary Type&quot;)] [(0, 1)] [(0, 1)]--TABLE\n",
       "π 3/22;\n",
       "σ col(&quot;Block&quot;).str.contains...; [(0, 2)]</title>\n",
       "<path fill=\"none\" stroke=\"black\" d=\"M141,-88.87C141,-77.64 141,-64.49 141,-53.25\"/>\n",
       "</g>\n",
       "</g>\n",
       "</svg>"
      ],
      "text/plain": [
       "<IPython.core.display.SVG object>"
      ]
     },
     "metadata": {},
     "output_type": "display_data"
    }
   ],
   "source": [
    "plan.show_graph(optimized=True)"
   ]
  },
  {
   "cell_type": "code",
   "execution_count": 56,
   "metadata": {},
   "outputs": [
    {
     "data": {
      "text/html": [
       "<div><style>\n",
       ".dataframe > thead > tr > th,\n",
       ".dataframe > tbody > tr > td {\n",
       "  text-align: right;\n",
       "}\n",
       "</style>\n",
       "<small>shape: (5, 2)</small><table border=\"1\" class=\"dataframe\"><thead><tr><th>Primary Type</th><th>num_arrests</th></tr><tr><td>str</td><td>u32</td></tr></thead><tbody><tr><td>&quot;NARCOTICS&quot;</td><td>33</td></tr><tr><td>&quot;WEAPONS VIOLAT…</td><td>11</td></tr><tr><td>&quot;BATTERY&quot;</td><td>7</td></tr><tr><td>&quot;OTHER OFFENSE&quot;</td><td>5</td></tr><tr><td>&quot;CRIMINAL TRESP…</td><td>2</td></tr></tbody></table></div>"
      ],
      "text/plain": [
       "shape: (5, 2)\n",
       "┌───────────────────┬─────────────┐\n",
       "│ Primary Type      ┆ num_arrests │\n",
       "│ ---               ┆ ---         │\n",
       "│ str               ┆ u32         │\n",
       "╞═══════════════════╪═════════════╡\n",
       "│ NARCOTICS         ┆ 33          │\n",
       "│ WEAPONS VIOLATION ┆ 11          │\n",
       "│ BATTERY           ┆ 7           │\n",
       "│ OTHER OFFENSE     ┆ 5           │\n",
       "│ CRIMINAL TRESPASS ┆ 2           │\n",
       "└───────────────────┴─────────────┘"
      ]
     },
     "execution_count": 56,
     "metadata": {},
     "output_type": "execute_result"
    }
   ],
   "source": [
    "plan.collect()"
   ]
  },
  {
   "cell_type": "code",
   "execution_count": 64,
   "metadata": {},
   "outputs": [
    {
     "name": "stdout",
     "output_type": "stream",
     "text": [
      "12.1 ms ± 1.49 ms per loop (mean ± std. dev. of 7 runs, 10 loops each)\n"
     ]
    }
   ],
   "source": [
    "%%timeit\n",
    "(\n",
    "    df\n",
    "    .lazy()\n",
    "    .filter(pl.col('Block').str.contains('VAN BUREN'))\n",
    "    .groupby('Primary Type')\n",
    "    .agg([num_arrests.alias('num_arrests')])\n",
    "    .sort('num_arrests', descending=True)\n",
    "    .head(5)\n",
    "    .collect()\n",
    ")"
   ]
  },
  {
   "cell_type": "code",
   "execution_count": 63,
   "metadata": {},
   "outputs": [
    {
     "name": "stdout",
     "output_type": "stream",
     "text": [
      "16.9 ms ± 2.51 ms per loop (mean ± std. dev. of 7 runs, 100 loops each)\n"
     ]
    }
   ],
   "source": [
    "%%timeit\n",
    "(\n",
    "    df\n",
    "    .filter(pl.col('Block').str.contains('VAN BUREN'))\n",
    "    .groupby('Primary Type')\n",
    "    .agg([num_arrests.alias('num_arrests')])\n",
    "    .sort('num_arrests', descending=True)\n",
    "    .head(5)\n",
    ")"
   ]
  },
  {
   "cell_type": "code",
   "execution_count": null,
   "metadata": {},
   "outputs": [],
   "source": []
  }
 ],
 "metadata": {
  "kernelspec": {
   "display_name": "pandasenv",
   "language": "python",
   "name": "pandasenv"
  },
  "language_info": {
   "codemirror_mode": {
    "name": "ipython",
    "version": 3
   },
   "file_extension": ".py",
   "mimetype": "text/x-python",
   "name": "python",
   "nbconvert_exporter": "python",
   "pygments_lexer": "ipython3",
   "version": "3.10.4"
  }
 },
 "nbformat": 4,
 "nbformat_minor": 4
}
