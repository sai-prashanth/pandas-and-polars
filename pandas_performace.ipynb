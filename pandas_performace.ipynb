{
 "cells": [
  {
   "cell_type": "markdown",
   "metadata": {},
   "source": [
    "# Improving Pandas performance\n",
    "\n",
    "## Goals for today\n",
    " - Memory usage\n",
    "     - String types\n",
    "     - Numeric types\n",
    "\n",
    "\n",
    " - Method chaining\n",
    "     - Filtering data\n",
    "     - Create new columns\n",
    " \n",
    "## About Dataset\n",
    "\n",
    "Chicago crime records for the year 2022 from the Chicago Police Department \n",
    "\n",
    "Downloaded on 30 Aug 2022 - Has records from Jan 01 to Aug 22 [Data Source](https://data.cityofchicago.org/Public-Safety/Crimes-2022/9hwr-2zxp)\n"
   ]
  },
  {
   "cell_type": "code",
   "execution_count": 1,
   "metadata": {},
   "outputs": [
    {
     "data": {
      "text/plain": [
       "'1.2.2'"
      ]
     },
     "execution_count": 1,
     "metadata": {},
     "output_type": "execute_result"
    }
   ],
   "source": [
    "# import the libraries\n",
    "import pandas as pd\n",
    "import numpy as np \n",
    "%matplotlib inline\n",
    "import matplotlib.pyplot as plt\n",
    "import seaborn as sns \n",
    "\n",
    "# pandas version\n",
    "pd.__version__"
   ]
  },
  {
   "cell_type": "code",
   "execution_count": 2,
   "metadata": {},
   "outputs": [
    {
     "name": "stdout",
     "output_type": "stream",
     "text": [
      "(143185, 22)\n"
     ]
    },
    {
     "data": {
      "text/html": [
       "<div>\n",
       "<style scoped>\n",
       "    .dataframe tbody tr th:only-of-type {\n",
       "        vertical-align: middle;\n",
       "    }\n",
       "\n",
       "    .dataframe tbody tr th {\n",
       "        vertical-align: top;\n",
       "    }\n",
       "\n",
       "    .dataframe thead th {\n",
       "        text-align: right;\n",
       "    }\n",
       "</style>\n",
       "<table border=\"1\" class=\"dataframe\">\n",
       "  <thead>\n",
       "    <tr style=\"text-align: right;\">\n",
       "      <th></th>\n",
       "      <th>ID</th>\n",
       "      <th>Case Number</th>\n",
       "      <th>Date</th>\n",
       "      <th>Block</th>\n",
       "      <th>IUCR</th>\n",
       "      <th>Primary Type</th>\n",
       "      <th>Description</th>\n",
       "      <th>Location Description</th>\n",
       "      <th>Arrest</th>\n",
       "      <th>Domestic</th>\n",
       "      <th>...</th>\n",
       "      <th>Ward</th>\n",
       "      <th>Community Area</th>\n",
       "      <th>FBI Code</th>\n",
       "      <th>X Coordinate</th>\n",
       "      <th>Y Coordinate</th>\n",
       "      <th>Year</th>\n",
       "      <th>Updated On</th>\n",
       "      <th>Latitude</th>\n",
       "      <th>Longitude</th>\n",
       "      <th>Location</th>\n",
       "    </tr>\n",
       "  </thead>\n",
       "  <tbody>\n",
       "    <tr>\n",
       "      <th>0</th>\n",
       "      <td>12751203</td>\n",
       "      <td>JF305497</td>\n",
       "      <td>2022-07-04 22:57:00</td>\n",
       "      <td>004XX E 40TH ST</td>\n",
       "      <td>1310</td>\n",
       "      <td>CRIMINAL DAMAGE</td>\n",
       "      <td>TO PROPERTY</td>\n",
       "      <td>APARTMENT</td>\n",
       "      <td>True</td>\n",
       "      <td>True</td>\n",
       "      <td>...</td>\n",
       "      <td>3.0</td>\n",
       "      <td>38</td>\n",
       "      <td>14</td>\n",
       "      <td>1180017.0</td>\n",
       "      <td>1878243.0</td>\n",
       "      <td>2022</td>\n",
       "      <td>2022-07-24 16:47:33</td>\n",
       "      <td>41.821170</td>\n",
       "      <td>-87.615115</td>\n",
       "      <td>(41.821170402, -87.615115421)</td>\n",
       "    </tr>\n",
       "    <tr>\n",
       "      <th>1</th>\n",
       "      <td>12756673</td>\n",
       "      <td>JF312128</td>\n",
       "      <td>2022-07-10 11:48:00</td>\n",
       "      <td>039XX W CHICAGO AVE</td>\n",
       "      <td>0430</td>\n",
       "      <td>BATTERY</td>\n",
       "      <td>AGGRAVATED - OTHER DANGEROUS WEAPON</td>\n",
       "      <td>RESTAURANT</td>\n",
       "      <td>False</td>\n",
       "      <td>False</td>\n",
       "      <td>...</td>\n",
       "      <td>37.0</td>\n",
       "      <td>23</td>\n",
       "      <td>04B</td>\n",
       "      <td>1149770.0</td>\n",
       "      <td>1905050.0</td>\n",
       "      <td>2022</td>\n",
       "      <td>2022-07-24 16:47:33</td>\n",
       "      <td>41.895372</td>\n",
       "      <td>-87.725381</td>\n",
       "      <td>(41.895372283, -87.725380843)</td>\n",
       "    </tr>\n",
       "    <tr>\n",
       "      <th>2</th>\n",
       "      <td>12768448</td>\n",
       "      <td>JF326144</td>\n",
       "      <td>2022-06-24 00:00:00</td>\n",
       "      <td>081XX S GREEN ST</td>\n",
       "      <td>1150</td>\n",
       "      <td>DECEPTIVE PRACTICE</td>\n",
       "      <td>CREDIT CARD FRAUD</td>\n",
       "      <td>APARTMENT</td>\n",
       "      <td>False</td>\n",
       "      <td>False</td>\n",
       "      <td>...</td>\n",
       "      <td>21.0</td>\n",
       "      <td>71</td>\n",
       "      <td>11</td>\n",
       "      <td>1172054.0</td>\n",
       "      <td>1850887.0</td>\n",
       "      <td>2022</td>\n",
       "      <td>2022-07-24 16:47:33</td>\n",
       "      <td>41.746281</td>\n",
       "      <td>-87.645131</td>\n",
       "      <td>(41.746281377, -87.645130733)</td>\n",
       "    </tr>\n",
       "    <tr>\n",
       "      <th>3</th>\n",
       "      <td>12767303</td>\n",
       "      <td>JF324716</td>\n",
       "      <td>2022-07-17 17:10:00</td>\n",
       "      <td>045XX S DREXEL BLVD</td>\n",
       "      <td>0820</td>\n",
       "      <td>THEFT</td>\n",
       "      <td>$500 AND UNDER</td>\n",
       "      <td>RESIDENCE - PORCH / HALLWAY</td>\n",
       "      <td>False</td>\n",
       "      <td>False</td>\n",
       "      <td>...</td>\n",
       "      <td>4.0</td>\n",
       "      <td>39</td>\n",
       "      <td>06</td>\n",
       "      <td>1183084.0</td>\n",
       "      <td>1875126.0</td>\n",
       "      <td>2022</td>\n",
       "      <td>2022-07-24 16:49:35</td>\n",
       "      <td>41.812546</td>\n",
       "      <td>-87.603961</td>\n",
       "      <td>(41.812546224, -87.603961332)</td>\n",
       "    </tr>\n",
       "    <tr>\n",
       "      <th>4</th>\n",
       "      <td>12763448</td>\n",
       "      <td>JF320476</td>\n",
       "      <td>2022-07-17 08:25:00</td>\n",
       "      <td>032XX N CLARK ST</td>\n",
       "      <td>0860</td>\n",
       "      <td>THEFT</td>\n",
       "      <td>RETAIL THEFT</td>\n",
       "      <td>DEPARTMENT STORE</td>\n",
       "      <td>False</td>\n",
       "      <td>False</td>\n",
       "      <td>...</td>\n",
       "      <td>44.0</td>\n",
       "      <td>6</td>\n",
       "      <td>06</td>\n",
       "      <td>1169868.0</td>\n",
       "      <td>1921628.0</td>\n",
       "      <td>2022</td>\n",
       "      <td>2022-07-24 16:49:35</td>\n",
       "      <td>41.940449</td>\n",
       "      <td>-87.651082</td>\n",
       "      <td>(41.94044868, -87.651081589)</td>\n",
       "    </tr>\n",
       "  </tbody>\n",
       "</table>\n",
       "<p>5 rows × 22 columns</p>\n",
       "</div>"
      ],
      "text/plain": [
       "         ID Case Number                Date                Block  IUCR  \\\n",
       "0  12751203    JF305497 2022-07-04 22:57:00      004XX E 40TH ST  1310   \n",
       "1  12756673    JF312128 2022-07-10 11:48:00  039XX W CHICAGO AVE  0430   \n",
       "2  12768448    JF326144 2022-06-24 00:00:00     081XX S GREEN ST  1150   \n",
       "3  12767303    JF324716 2022-07-17 17:10:00  045XX S DREXEL BLVD  0820   \n",
       "4  12763448    JF320476 2022-07-17 08:25:00     032XX N CLARK ST  0860   \n",
       "\n",
       "         Primary Type                          Description  \\\n",
       "0     CRIMINAL DAMAGE                          TO PROPERTY   \n",
       "1             BATTERY  AGGRAVATED - OTHER DANGEROUS WEAPON   \n",
       "2  DECEPTIVE PRACTICE                    CREDIT CARD FRAUD   \n",
       "3               THEFT                       $500 AND UNDER   \n",
       "4               THEFT                         RETAIL THEFT   \n",
       "\n",
       "          Location Description  Arrest  Domestic  ...  Ward  Community Area  \\\n",
       "0                    APARTMENT    True      True  ...   3.0              38   \n",
       "1                   RESTAURANT   False     False  ...  37.0              23   \n",
       "2                    APARTMENT   False     False  ...  21.0              71   \n",
       "3  RESIDENCE - PORCH / HALLWAY   False     False  ...   4.0              39   \n",
       "4             DEPARTMENT STORE   False     False  ...  44.0               6   \n",
       "\n",
       "   FBI Code  X Coordinate Y Coordinate  Year          Updated On   Latitude  \\\n",
       "0        14     1180017.0    1878243.0  2022 2022-07-24 16:47:33  41.821170   \n",
       "1       04B     1149770.0    1905050.0  2022 2022-07-24 16:47:33  41.895372   \n",
       "2        11     1172054.0    1850887.0  2022 2022-07-24 16:47:33  41.746281   \n",
       "3        06     1183084.0    1875126.0  2022 2022-07-24 16:49:35  41.812546   \n",
       "4        06     1169868.0    1921628.0  2022 2022-07-24 16:49:35  41.940449   \n",
       "\n",
       "   Longitude                       Location  \n",
       "0 -87.615115  (41.821170402, -87.615115421)  \n",
       "1 -87.725381  (41.895372283, -87.725380843)  \n",
       "2 -87.645131  (41.746281377, -87.645130733)  \n",
       "3 -87.603961  (41.812546224, -87.603961332)  \n",
       "4 -87.651082   (41.94044868, -87.651081589)  \n",
       "\n",
       "[5 rows x 22 columns]"
      ]
     },
     "execution_count": 2,
     "metadata": {},
     "output_type": "execute_result"
    }
   ],
   "source": [
    "# load the data \n",
    "df = pd.read_csv('ChicagoCrimes2022.csv',\n",
    "                 parse_dates=['Date', 'Updated On']\n",
    "                )\n",
    "\n",
    "print(df.shape)\n",
    "\n",
    "df.head()"
   ]
  },
  {
   "cell_type": "markdown",
   "metadata": {},
   "source": [
    "## Memory Usage in pandas\n",
    "\n",
    "When set to deep, introspects the data deeply and includes object dtypes for system-level memory consumption as well\n",
    "\n",
    "Below we will see how to gain better memory improvement for two specific dtypes\n",
    "- object \n",
    "- numeric (int/float)"
   ]
  },
  {
   "cell_type": "code",
   "execution_count": 5,
   "metadata": {},
   "outputs": [
    {
     "name": "stdout",
     "output_type": "stream",
     "text": [
      "<class 'pandas.core.frame.DataFrame'>\n",
      "RangeIndex: 143185 entries, 0 to 143184\n",
      "Data columns (total 22 columns):\n",
      " #   Column                Non-Null Count   Dtype         \n",
      "---  ------                --------------   -----         \n",
      " 0   ID                    143185 non-null  int64         \n",
      " 1   Case Number           143185 non-null  object        \n",
      " 2   Date                  143185 non-null  datetime64[ns]\n",
      " 3   Block                 143185 non-null  object        \n",
      " 4   IUCR                  143185 non-null  object        \n",
      " 5   Primary Type          143185 non-null  object        \n",
      " 6   Description           143185 non-null  object        \n",
      " 7   Location Description  142801 non-null  object        \n",
      " 8   Arrest                143185 non-null  bool          \n",
      " 9   Domestic              143185 non-null  bool          \n",
      " 10  Beat                  143185 non-null  int64         \n",
      " 11  District              143185 non-null  int64         \n",
      " 12  Ward                  143178 non-null  float64       \n",
      " 13  Community Area        143185 non-null  int64         \n",
      " 14  FBI Code              143185 non-null  object        \n",
      " 15  X Coordinate          142033 non-null  float64       \n",
      " 16  Y Coordinate          142033 non-null  float64       \n",
      " 17  Year                  143185 non-null  int64         \n",
      " 18  Updated On            143185 non-null  datetime64[ns]\n",
      " 19  Latitude              142033 non-null  float64       \n",
      " 20  Longitude             142033 non-null  float64       \n",
      " 21  Location              142033 non-null  object        \n",
      "dtypes: bool(2), datetime64[ns](2), float64(5), int64(5), object(8)\n",
      "memory usage: 89.3 MB\n"
     ]
    }
   ],
   "source": [
    "df.info(memory_usage='deep')"
   ]
  },
  {
   "cell_type": "markdown",
   "metadata": {},
   "source": [
    "#### Object type columns\n",
    "For string columns with lot of repeated values - converting to the category dtype drastically reduces memory consumption and improves performace "
   ]
  },
  {
   "cell_type": "code",
   "execution_count": 7,
   "metadata": {},
   "outputs": [
    {
     "data": {
      "text/plain": [
       "Index                        128\n",
       "ID                       1145480\n",
       "Case Number              9307025\n",
       "Date                     1145480\n",
       "Block                   10811572\n",
       "IUCR                     8734285\n",
       "Primary Type             9651849\n",
       "Description             10575318\n",
       "Location Description     9863463\n",
       "Arrest                    143185\n",
       "Domestic                  143185\n",
       "Beat                     1145480\n",
       "District                 1145480\n",
       "Ward                     1145480\n",
       "Community Area           1145480\n",
       "FBI Code                 8490970\n",
       "X Coordinate             1145480\n",
       "Y Coordinate             1145480\n",
       "Year                     1145480\n",
       "Updated On               1145480\n",
       "Latitude                 1145480\n",
       "Longitude                1145480\n",
       "Location                12220460\n",
       "dtype: int64"
      ]
     },
     "execution_count": 7,
     "metadata": {},
     "output_type": "execute_result"
    }
   ],
   "source": [
    "df.memory_usage(deep='True')"
   ]
  },
  {
   "cell_type": "code",
   "execution_count": 8,
   "metadata": {},
   "outputs": [
    {
     "data": {
      "text/plain": [
       "9651849"
      ]
     },
     "execution_count": 8,
     "metadata": {},
     "output_type": "execute_result"
    }
   ],
   "source": [
    "# memory usage by object column\n",
    "df['Primary Type'].memory_usage(deep=True, index=False)"
   ]
  },
  {
   "cell_type": "code",
   "execution_count": 9,
   "metadata": {},
   "outputs": [
    {
     "data": {
      "text/plain": [
       "146474"
      ]
     },
     "execution_count": 9,
     "metadata": {},
     "output_type": "execute_result"
    }
   ],
   "source": [
    "# convert the object dtype to categorical and check the memory usage now\n",
    "df['Primary Type Cat'] = df['Primary Type'].astype('category')\n",
    "\n",
    "df['Primary Type Cat'].memory_usage(deep=True, index=False)"
   ]
  },
  {
   "cell_type": "code",
   "execution_count": 10,
   "metadata": {},
   "outputs": [
    {
     "name": "stdout",
     "output_type": "stream",
     "text": [
      "we are using 65.89 times less memory now\n"
     ]
    }
   ],
   "source": [
    "# ratio of memory usage before vs now\n",
    "print(f\"we are using {df['Primary Type'].memory_usage(deep=True, index=False)/df['Primary Type Cat'].memory_usage(deep=True, index=False):.2f} times less memory now\")"
   ]
  },
  {
   "cell_type": "markdown",
   "metadata": {},
   "source": [
    "##### 10x Speed up!\n",
    "Using the categorical dtypes doesn't just helps us with memory but also with runtime performance\n",
    "\n",
    "Below are two simple examples"
   ]
  },
  {
   "cell_type": "code",
   "execution_count": 11,
   "metadata": {},
   "outputs": [
    {
     "name": "stdout",
     "output_type": "stream",
     "text": [
      "36.4 ms ± 8.46 ms per loop (mean ± std. dev. of 7 runs, 10 loops each)\n"
     ]
    }
   ],
   "source": [
    "%%timeit \n",
    "df['Primary Type'].value_counts()"
   ]
  },
  {
   "cell_type": "code",
   "execution_count": 12,
   "metadata": {},
   "outputs": [
    {
     "name": "stdout",
     "output_type": "stream",
     "text": [
      "3.09 ms ± 220 µs per loop (mean ± std. dev. of 7 runs, 100 loops each)\n"
     ]
    }
   ],
   "source": [
    "%%timeit \n",
    "df['Primary Type Cat'].value_counts()"
   ]
  },
  {
   "cell_type": "code",
   "execution_count": 13,
   "metadata": {},
   "outputs": [
    {
     "name": "stdout",
     "output_type": "stream",
     "text": [
      "39.4 ms ± 2.26 ms per loop (mean ± std. dev. of 7 runs, 10 loops each)\n"
     ]
    }
   ],
   "source": [
    "%%timeit \n",
    "df[df['Primary Type'] == 'THEFT']"
   ]
  },
  {
   "cell_type": "code",
   "execution_count": 14,
   "metadata": {},
   "outputs": [
    {
     "name": "stdout",
     "output_type": "stream",
     "text": [
      "26.3 ms ± 9.3 ms per loop (mean ± std. dev. of 7 runs, 10 loops each)\n"
     ]
    }
   ],
   "source": [
    "%%timeit \n",
    "df[df['Primary Type Cat'] == 'THEFT']"
   ]
  },
  {
   "cell_type": "code",
   "execution_count": 15,
   "metadata": {},
   "outputs": [
    {
     "data": {
      "text/plain": [
       "0          5\n",
       "1          2\n",
       "2          8\n",
       "3         29\n",
       "4         29\n",
       "          ..\n",
       "143180     3\n",
       "143181    29\n",
       "143182    16\n",
       "143183    22\n",
       "143184    29\n",
       "Length: 143185, dtype: int8"
      ]
     },
     "execution_count": 15,
     "metadata": {},
     "output_type": "execute_result"
    }
   ],
   "source": [
    "# why category dtype needs less memory? - stores a integer mapping for each category - encoding\n",
    "df['Primary Type Cat'].cat.codes"
   ]
  },
  {
   "cell_type": "markdown",
   "metadata": {},
   "source": [
    "### Numeric dtypes \n",
    "1) Nullable Integers:\n",
    "\n",
    "When a record is missing for a integer type column - Pandas stores the entire column as float64\n",
    "\n",
    "Just to be safe, becasue it isn't sure if the missing values has decimal points or not \n",
    "\n",
    "[Nullable Integer](https://pandas.pydata.org/docs/user_guide/integer_na.html) - solves the problem of int64 columns chnagng to float64 when NaNs are introduced. This allows for int64 to have null values. The dtype is pd.Int64Dtype() or 'Int64'\n",
    "\n",
    "[Convert Dtypes](https://pandas.pydata.org/docs/reference/api/pandas.DataFrame.convert_dtypes.html) - Does this automaticall for every column - converts to the best dtype which supports pd.NA \n",
    "\n",
    "2) Downcasting Numeric columns:\n",
    "\n",
    "[Downcast/Upcast](https://pandas.pydata.org/docs/reference/api/pandas.to_numeric.html) - pd.to_numeric(s, downcast=\"integer\")"
   ]
  },
  {
   "cell_type": "markdown",
   "metadata": {},
   "source": [
    "#### Downcasting example \n"
   ]
  },
  {
   "cell_type": "code",
   "execution_count": 16,
   "metadata": {},
   "outputs": [
    {
     "name": "stdout",
     "output_type": "stream",
     "text": [
      "<class 'pandas.core.frame.DataFrame'>\n",
      "RangeIndex: 143185 entries, 0 to 143184\n",
      "Data columns (total 23 columns):\n",
      " #   Column                Non-Null Count   Dtype         \n",
      "---  ------                --------------   -----         \n",
      " 0   ID                    143185 non-null  int64         \n",
      " 1   Case Number           143185 non-null  object        \n",
      " 2   Date                  143185 non-null  datetime64[ns]\n",
      " 3   Block                 143185 non-null  object        \n",
      " 4   IUCR                  143185 non-null  object        \n",
      " 5   Primary Type          143185 non-null  object        \n",
      " 6   Description           143185 non-null  object        \n",
      " 7   Location Description  142801 non-null  object        \n",
      " 8   Arrest                143185 non-null  bool          \n",
      " 9   Domestic              143185 non-null  bool          \n",
      " 10  Beat                  143185 non-null  int64         \n",
      " 11  District              143185 non-null  int64         \n",
      " 12  Ward                  143178 non-null  float64       \n",
      " 13  Community Area        143185 non-null  int64         \n",
      " 14  FBI Code              143185 non-null  object        \n",
      " 15  X Coordinate          142033 non-null  float64       \n",
      " 16  Y Coordinate          142033 non-null  float64       \n",
      " 17  Year                  143185 non-null  int64         \n",
      " 18  Updated On            143185 non-null  datetime64[ns]\n",
      " 19  Latitude              142033 non-null  float64       \n",
      " 20  Longitude             142033 non-null  float64       \n",
      " 21  Location              142033 non-null  object        \n",
      " 22  Primary Type Cat      143185 non-null  category      \n",
      "dtypes: bool(2), category(1), datetime64[ns](2), float64(5), int64(5), object(8)\n",
      "memory usage: 22.3+ MB\n"
     ]
    }
   ],
   "source": [
    "# by default allocates lot of memory for each col\n",
    "df.info()"
   ]
  },
  {
   "cell_type": "code",
   "execution_count": 18,
   "metadata": {},
   "outputs": [
    {
     "data": {
      "text/plain": [
       "0          214\n",
       "1         1112\n",
       "2          613\n",
       "3          222\n",
       "4         1924\n",
       "          ... \n",
       "143180     612\n",
       "143181    1622\n",
       "143182     632\n",
       "143183     523\n",
       "143184    1834\n",
       "Name: Beat, Length: 143185, dtype: int64"
      ]
     },
     "execution_count": 18,
     "metadata": {},
     "output_type": "execute_result"
    }
   ],
   "source": [
    "df.Beat"
   ]
  },
  {
   "cell_type": "code",
   "execution_count": 19,
   "metadata": {},
   "outputs": [
    {
     "data": {
      "text/plain": [
       "count    143185.000000\n",
       "mean       1146.725509\n",
       "std         708.580486\n",
       "min         111.000000\n",
       "25%         532.000000\n",
       "50%        1031.000000\n",
       "75%        1724.000000\n",
       "max        2535.000000\n",
       "Name: Beat, dtype: float64"
      ]
     },
     "execution_count": 19,
     "metadata": {},
     "output_type": "execute_result"
    }
   ],
   "source": [
    "df.Beat.describe()\n",
    "# df.Beat.astype('int32').memory_usage()"
   ]
  },
  {
   "cell_type": "code",
   "execution_count": 22,
   "metadata": {},
   "outputs": [
    {
     "data": {
      "text/plain": [
       "iinfo(min=-32768, max=32767, dtype=int16)"
      ]
     },
     "execution_count": 22,
     "metadata": {},
     "output_type": "execute_result"
    }
   ],
   "source": [
    "np.iinfo(np.int16)"
   ]
  },
  {
   "cell_type": "code",
   "execution_count": 23,
   "metadata": {},
   "outputs": [
    {
     "data": {
      "text/plain": [
       "finfo(resolution=0.001, min=-6.55040e+04, max=6.55040e+04, dtype=float16)"
      ]
     },
     "execution_count": 23,
     "metadata": {},
     "output_type": "execute_result"
    }
   ],
   "source": [
    "np.finfo(np.float16)"
   ]
  },
  {
   "cell_type": "code",
   "execution_count": 24,
   "metadata": {},
   "outputs": [
    {
     "name": "stdout",
     "output_type": "stream",
     "text": [
      "Original memory usage - 1145608 bytes\n"
     ]
    },
    {
     "data": {
      "text/plain": [
       "0          214\n",
       "1         1112\n",
       "2          613\n",
       "3          222\n",
       "4         1924\n",
       "          ... \n",
       "143180     612\n",
       "143181    1622\n",
       "143182     632\n",
       "143183     523\n",
       "143184    1834\n",
       "Name: Beat, Length: 143185, dtype: int64"
      ]
     },
     "execution_count": 24,
     "metadata": {},
     "output_type": "execute_result"
    }
   ],
   "source": [
    "# original memory usage \n",
    "print(f\"Original memory usage - {df['Beat'].memory_usage()} bytes\")\n",
    "df['Beat']"
   ]
  },
  {
   "cell_type": "code",
   "execution_count": 25,
   "metadata": {},
   "outputs": [
    {
     "name": "stdout",
     "output_type": "stream",
     "text": [
      "New memory usage - 286498 bytes\n"
     ]
    },
    {
     "data": {
      "text/plain": [
       "0          214\n",
       "1         1112\n",
       "2          613\n",
       "3          222\n",
       "4         1924\n",
       "          ... \n",
       "143180     612\n",
       "143181    1622\n",
       "143182     632\n",
       "143183     523\n",
       "143184    1834\n",
       "Name: Beat, Length: 143185, dtype: int16"
      ]
     },
     "execution_count": 25,
     "metadata": {},
     "output_type": "execute_result"
    }
   ],
   "source": [
    "# using the numeric downcast feature to reduce the memory usage of a column\n",
    "print(f\"New memory usage - {pd.to_numeric(df['Beat'], downcast='integer').memory_usage()} bytes\")\n",
    "\n",
    "pd.to_numeric(df['Beat'], downcast=\"integer\")"
   ]
  },
  {
   "cell_type": "markdown",
   "metadata": {},
   "source": [
    "### Nullable Integers"
   ]
  },
  {
   "cell_type": "code",
   "execution_count": 26,
   "metadata": {},
   "outputs": [
    {
     "data": {
      "text/plain": [
       "0         1180017.0\n",
       "1         1149770.0\n",
       "2         1172054.0\n",
       "3         1183084.0\n",
       "4         1169868.0\n",
       "            ...    \n",
       "143180    1170307.0\n",
       "143181    1137865.0\n",
       "143182    1178680.0\n",
       "143183    1175664.0\n",
       "143184    1179089.0\n",
       "Name: X Coordinate, Length: 143185, dtype: float64"
      ]
     },
     "execution_count": 26,
     "metadata": {},
     "output_type": "execute_result"
    }
   ],
   "source": [
    "df['X Coordinate']"
   ]
  },
  {
   "cell_type": "code",
   "execution_count": 27,
   "metadata": {},
   "outputs": [
    {
     "name": "stdout",
     "output_type": "stream",
     "text": [
      "<class 'pandas.core.frame.DataFrame'>\n",
      "RangeIndex: 143185 entries, 0 to 143184\n",
      "Data columns (total 22 columns):\n",
      " #   Column                Non-Null Count   Dtype         \n",
      "---  ------                --------------   -----         \n",
      " 0   ID                    143185 non-null  int64         \n",
      " 1   Case Number           143185 non-null  object        \n",
      " 2   Date                  143185 non-null  datetime64[ns]\n",
      " 3   Block                 143185 non-null  category      \n",
      " 4   IUCR                  143185 non-null  category      \n",
      " 5   Primary Type          143185 non-null  category      \n",
      " 6   Description           143185 non-null  category      \n",
      " 7   Location Description  142801 non-null  category      \n",
      " 8   Arrest                143185 non-null  bool          \n",
      " 9   Domestic              143185 non-null  bool          \n",
      " 10  Beat                  143185 non-null  int16         \n",
      " 11  District              143185 non-null  int8          \n",
      " 12  Ward                  143178 non-null  float64       \n",
      " 13  Community Area        143185 non-null  int8          \n",
      " 14  FBI Code              143185 non-null  category      \n",
      " 15  X Coordinate          142033 non-null  Int32         \n",
      " 16  Y Coordinate          142033 non-null  Int32         \n",
      " 17  Year                  143185 non-null  int16         \n",
      " 18  Updated On            143185 non-null  datetime64[ns]\n",
      " 19  Latitude              142033 non-null  float16       \n",
      " 20  Longitude             142033 non-null  float16       \n",
      " 21  Location              142033 non-null  object        \n",
      "dtypes: Int32(2), bool(2), category(6), datetime64[ns](2), float16(2), float64(1), int16(2), int64(1), int8(2), object(2)\n",
      "memory usage: 31.5 MB\n"
     ]
    }
   ],
   "source": [
    "# just to compare the toal memory savings lets\n",
    "# reload the dataframe with the best dtype possible \n",
    "\n",
    "# Nullable int example\n",
    "dtypes = {'Beat': 'int16',\n",
    "          'District': 'int8',\n",
    "          'Community Area':'int8',\n",
    "          'Year':'int16',\n",
    "          'Block':'category',\n",
    "          'IUCR':'category',\n",
    "          'Primary Type':'category',\n",
    "          'Description':'category',\n",
    "          'Location Description':'category',\n",
    "          'FBI Code':'category',\n",
    "          'X Coordinate':pd.Int32Dtype(),\n",
    "          'Y Coordinate':'Int32',\n",
    "          'Latitude':'float16',\n",
    "          'Longitude':'float16'\n",
    "          \n",
    "         }\n",
    "\n",
    "df_mem = pd.read_csv('ChicagoCrimes2022.csv',\n",
    "                 parse_dates=['Date', 'Updated On'],\n",
    "                 dtype=dtypes\n",
    "                )\n",
    "\n",
    "df_mem.info(memory_usage='deep')\n"
   ]
  },
  {
   "cell_type": "markdown",
   "metadata": {},
   "source": [
    "## Side effects of using categorical dtype\n",
    "\n",
    "Using category dtype saves/improves memory/performace. But its very fragile and it can be a huge pain if not used appropriately. \n",
    "\n",
    "some scenarios where it gets annoying:\n",
    "- when joining with other dataframes - if the categories doesnt match exactly in both dfs or if one is category and other is object \n",
    "- when renaming/modifying categories \n",
    "- when doining group by \n"
   ]
  },
  {
   "cell_type": "markdown",
   "metadata": {},
   "source": [
    "#### renaming/modifying categories "
   ]
  },
  {
   "cell_type": "code",
   "execution_count": 31,
   "metadata": {},
   "outputs": [
    {
     "name": "stdout",
     "output_type": "stream",
     "text": [
      "203 ms ± 71.8 ms per loop (mean ± std. dev. of 7 runs, 10 loops each)\n"
     ]
    }
   ],
   "source": [
    "%%timeit\n",
    "# df['Primary Type']\n",
    "\n",
    "df['Primary Type'].str.title()"
   ]
  },
  {
   "cell_type": "code",
   "execution_count": 32,
   "metadata": {},
   "outputs": [
    {
     "name": "stdout",
     "output_type": "stream",
     "text": [
      "19 ms ± 5.58 ms per loop (mean ± std. dev. of 7 runs, 10 loops each)\n"
     ]
    }
   ],
   "source": [
    "%%timeit\n",
    "df_mem['Primary Type'].str.title()"
   ]
  },
  {
   "cell_type": "code",
   "execution_count": 34,
   "metadata": {},
   "outputs": [
    {
     "data": {
      "text/plain": [
       "9651977"
      ]
     },
     "execution_count": 34,
     "metadata": {},
     "output_type": "execute_result"
    }
   ],
   "source": [
    "df_mem['Primary Type'].str.title().memory_usage(deep='True')"
   ]
  },
  {
   "cell_type": "code",
   "execution_count": 36,
   "metadata": {},
   "outputs": [
    {
     "name": "stdout",
     "output_type": "stream",
     "text": [
      "646 µs ± 100 µs per loop (mean ± std. dev. of 7 runs, 1000 loops each)\n"
     ]
    }
   ],
   "source": [
    "# from above cells you can notice dtype changed to object agian \n",
    "# workaround for this is to modify the categories instead of the values \n",
    "# also notice this is much faster than both the ways we tried above\n",
    "\n",
    "df_mem['Primary Type'].cat.rename_categories(str.title)\n",
    "\n",
    "%timeit df_mem['Primary Type'].cat.rename_categories(str.title)"
   ]
  },
  {
   "cell_type": "markdown",
   "metadata": {},
   "source": [
    "#### Group by"
   ]
  },
  {
   "cell_type": "code",
   "execution_count": 37,
   "metadata": {},
   "outputs": [
    {
     "data": {
      "text/html": [
       "<div>\n",
       "<style scoped>\n",
       "    .dataframe tbody tr th:only-of-type {\n",
       "        vertical-align: middle;\n",
       "    }\n",
       "\n",
       "    .dataframe tbody tr th {\n",
       "        vertical-align: top;\n",
       "    }\n",
       "\n",
       "    .dataframe thead th {\n",
       "        text-align: right;\n",
       "    }\n",
       "</style>\n",
       "<table border=\"1\" class=\"dataframe\">\n",
       "  <thead>\n",
       "    <tr style=\"text-align: right;\">\n",
       "      <th></th>\n",
       "      <th>Primary Type</th>\n",
       "      <th>Description</th>\n",
       "      <th>Case Number</th>\n",
       "    </tr>\n",
       "  </thead>\n",
       "  <tbody>\n",
       "    <tr>\n",
       "      <th>0</th>\n",
       "      <td>ARSON</td>\n",
       "      <td>AGGRAVATED</td>\n",
       "      <td>20</td>\n",
       "    </tr>\n",
       "    <tr>\n",
       "      <th>1</th>\n",
       "      <td>ARSON</td>\n",
       "      <td>ATTEMPT ARSON</td>\n",
       "      <td>25</td>\n",
       "    </tr>\n",
       "    <tr>\n",
       "      <th>2</th>\n",
       "      <td>ARSON</td>\n",
       "      <td>BY EXPLOSIVE</td>\n",
       "      <td>7</td>\n",
       "    </tr>\n",
       "    <tr>\n",
       "      <th>3</th>\n",
       "      <td>ARSON</td>\n",
       "      <td>BY FIRE</td>\n",
       "      <td>199</td>\n",
       "    </tr>\n",
       "    <tr>\n",
       "      <th>4</th>\n",
       "      <td>ARSON</td>\n",
       "      <td>POSSESSION - CHEMICAL / DRY-ICE DEVICE</td>\n",
       "      <td>1</td>\n",
       "    </tr>\n",
       "    <tr>\n",
       "      <th>...</th>\n",
       "      <td>...</td>\n",
       "      <td>...</td>\n",
       "      <td>...</td>\n",
       "    </tr>\n",
       "    <tr>\n",
       "      <th>281</th>\n",
       "      <td>WEAPONS VIOLATION</td>\n",
       "      <td>UNLAWFUL SALE - HANDGUN</td>\n",
       "      <td>1</td>\n",
       "    </tr>\n",
       "    <tr>\n",
       "      <th>282</th>\n",
       "      <td>WEAPONS VIOLATION</td>\n",
       "      <td>UNLAWFUL USE - HANDGUN</td>\n",
       "      <td>191</td>\n",
       "    </tr>\n",
       "    <tr>\n",
       "      <th>283</th>\n",
       "      <td>WEAPONS VIOLATION</td>\n",
       "      <td>UNLAWFUL USE - OTHER DANGEROUS WEAPON</td>\n",
       "      <td>43</td>\n",
       "    </tr>\n",
       "    <tr>\n",
       "      <th>284</th>\n",
       "      <td>WEAPONS VIOLATION</td>\n",
       "      <td>UNLAWFUL USE - OTHER FIREARM</td>\n",
       "      <td>230</td>\n",
       "    </tr>\n",
       "    <tr>\n",
       "      <th>285</th>\n",
       "      <td>WEAPONS VIOLATION</td>\n",
       "      <td>UNLAWFUL USE / SALE OF AIR RIFLE</td>\n",
       "      <td>12</td>\n",
       "    </tr>\n",
       "  </tbody>\n",
       "</table>\n",
       "<p>286 rows × 3 columns</p>\n",
       "</div>"
      ],
      "text/plain": [
       "          Primary Type                             Description  Case Number\n",
       "0                ARSON                              AGGRAVATED           20\n",
       "1                ARSON                           ATTEMPT ARSON           25\n",
       "2                ARSON                            BY EXPLOSIVE            7\n",
       "3                ARSON                                 BY FIRE          199\n",
       "4                ARSON  POSSESSION - CHEMICAL / DRY-ICE DEVICE            1\n",
       "..                 ...                                     ...          ...\n",
       "281  WEAPONS VIOLATION                 UNLAWFUL SALE - HANDGUN            1\n",
       "282  WEAPONS VIOLATION                  UNLAWFUL USE - HANDGUN          191\n",
       "283  WEAPONS VIOLATION   UNLAWFUL USE - OTHER DANGEROUS WEAPON           43\n",
       "284  WEAPONS VIOLATION            UNLAWFUL USE - OTHER FIREARM          230\n",
       "285  WEAPONS VIOLATION        UNLAWFUL USE / SALE OF AIR RIFLE           12\n",
       "\n",
       "[286 rows x 3 columns]"
      ]
     },
     "execution_count": 37,
     "metadata": {},
     "output_type": "execute_result"
    }
   ],
   "source": [
    "# normal group by with objects\n",
    "df.groupby(['Primary Type', 'Description'])['Case Number'].count().reset_index()"
   ]
  },
  {
   "cell_type": "code",
   "execution_count": 38,
   "metadata": {},
   "outputs": [
    {
     "data": {
      "text/html": [
       "<div>\n",
       "<style scoped>\n",
       "    .dataframe tbody tr th:only-of-type {\n",
       "        vertical-align: middle;\n",
       "    }\n",
       "\n",
       "    .dataframe tbody tr th {\n",
       "        vertical-align: top;\n",
       "    }\n",
       "\n",
       "    .dataframe thead th {\n",
       "        text-align: right;\n",
       "    }\n",
       "</style>\n",
       "<table border=\"1\" class=\"dataframe\">\n",
       "  <thead>\n",
       "    <tr style=\"text-align: right;\">\n",
       "      <th></th>\n",
       "      <th>Primary Type</th>\n",
       "      <th>Description</th>\n",
       "      <th>Case Number</th>\n",
       "    </tr>\n",
       "  </thead>\n",
       "  <tbody>\n",
       "    <tr>\n",
       "      <th>0</th>\n",
       "      <td>ARSON</td>\n",
       "      <td>$500 AND UNDER</td>\n",
       "      <td>0</td>\n",
       "    </tr>\n",
       "    <tr>\n",
       "      <th>1</th>\n",
       "      <td>ARSON</td>\n",
       "      <td>ABUSE / NEGLECT - CARE FACILITY</td>\n",
       "      <td>0</td>\n",
       "    </tr>\n",
       "    <tr>\n",
       "      <th>2</th>\n",
       "      <td>ARSON</td>\n",
       "      <td>AGG. DOMESTIC BATTERY - HANDS, FISTS, FEET, SE...</td>\n",
       "      <td>0</td>\n",
       "    </tr>\n",
       "    <tr>\n",
       "      <th>3</th>\n",
       "      <td>ARSON</td>\n",
       "      <td>AGG. PROTECTED EMPLOYEE - HANDS, FISTS, FEET, ...</td>\n",
       "      <td>0</td>\n",
       "    </tr>\n",
       "    <tr>\n",
       "      <th>4</th>\n",
       "      <td>ARSON</td>\n",
       "      <td>AGGRAVATED</td>\n",
       "      <td>20</td>\n",
       "    </tr>\n",
       "    <tr>\n",
       "      <th>...</th>\n",
       "      <td>...</td>\n",
       "      <td>...</td>\n",
       "      <td>...</td>\n",
       "    </tr>\n",
       "    <tr>\n",
       "      <th>8272</th>\n",
       "      <td>PUBLIC INDECENCY</td>\n",
       "      <td>POSSESS - HEROIN (BLACK TAR)</td>\n",
       "      <td>0</td>\n",
       "    </tr>\n",
       "    <tr>\n",
       "      <th>8273</th>\n",
       "      <td>PUBLIC INDECENCY</td>\n",
       "      <td>SEXUAL RELATIONS IN FAMILY</td>\n",
       "      <td>0</td>\n",
       "    </tr>\n",
       "    <tr>\n",
       "      <th>8274</th>\n",
       "      <td>PUBLIC INDECENCY</td>\n",
       "      <td>CRIMINAL DRUG CONSPIRACY</td>\n",
       "      <td>0</td>\n",
       "    </tr>\n",
       "    <tr>\n",
       "      <th>8275</th>\n",
       "      <td>PUBLIC INDECENCY</td>\n",
       "      <td>MANUFACTURE / DELIVER - BARBITURATES</td>\n",
       "      <td>0</td>\n",
       "    </tr>\n",
       "    <tr>\n",
       "      <th>8276</th>\n",
       "      <td>PUBLIC INDECENCY</td>\n",
       "      <td>POSSESS - HYPODERMIC NEEDLE</td>\n",
       "      <td>0</td>\n",
       "    </tr>\n",
       "  </tbody>\n",
       "</table>\n",
       "<p>8277 rows × 3 columns</p>\n",
       "</div>"
      ],
      "text/plain": [
       "          Primary Type                                        Description  \\\n",
       "0                ARSON                                     $500 AND UNDER   \n",
       "1                ARSON                    ABUSE / NEGLECT - CARE FACILITY   \n",
       "2                ARSON  AGG. DOMESTIC BATTERY - HANDS, FISTS, FEET, SE...   \n",
       "3                ARSON  AGG. PROTECTED EMPLOYEE - HANDS, FISTS, FEET, ...   \n",
       "4                ARSON                                         AGGRAVATED   \n",
       "...                ...                                                ...   \n",
       "8272  PUBLIC INDECENCY                       POSSESS - HEROIN (BLACK TAR)   \n",
       "8273  PUBLIC INDECENCY                         SEXUAL RELATIONS IN FAMILY   \n",
       "8274  PUBLIC INDECENCY                           CRIMINAL DRUG CONSPIRACY   \n",
       "8275  PUBLIC INDECENCY               MANUFACTURE / DELIVER - BARBITURATES   \n",
       "8276  PUBLIC INDECENCY                        POSSESS - HYPODERMIC NEEDLE   \n",
       "\n",
       "      Case Number  \n",
       "0               0  \n",
       "1               0  \n",
       "2               0  \n",
       "3               0  \n",
       "4              20  \n",
       "...           ...  \n",
       "8272            0  \n",
       "8273            0  \n",
       "8274            0  \n",
       "8275            0  \n",
       "8276            0  \n",
       "\n",
       "[8277 rows x 3 columns]"
      ]
     },
     "execution_count": 38,
     "metadata": {},
     "output_type": "execute_result"
    }
   ],
   "source": [
    "# group by with categorical \n",
    "df_mem.groupby(['Primary Type', 'Description'])['Case Number'].count().reset_index()"
   ]
  },
  {
   "cell_type": "code",
   "execution_count": 39,
   "metadata": {},
   "outputs": [
    {
     "data": {
      "text/html": [
       "<div>\n",
       "<style scoped>\n",
       "    .dataframe tbody tr th:only-of-type {\n",
       "        vertical-align: middle;\n",
       "    }\n",
       "\n",
       "    .dataframe tbody tr th {\n",
       "        vertical-align: top;\n",
       "    }\n",
       "\n",
       "    .dataframe thead th {\n",
       "        text-align: right;\n",
       "    }\n",
       "</style>\n",
       "<table border=\"1\" class=\"dataframe\">\n",
       "  <thead>\n",
       "    <tr style=\"text-align: right;\">\n",
       "      <th></th>\n",
       "      <th>Primary Type</th>\n",
       "      <th>Description</th>\n",
       "      <th>Case Number</th>\n",
       "    </tr>\n",
       "  </thead>\n",
       "  <tbody>\n",
       "    <tr>\n",
       "      <th>0</th>\n",
       "      <td>CRIMINAL DAMAGE</td>\n",
       "      <td>TO PROPERTY</td>\n",
       "      <td>7779</td>\n",
       "    </tr>\n",
       "    <tr>\n",
       "      <th>1</th>\n",
       "      <td>CRIMINAL DAMAGE</td>\n",
       "      <td>TO VEHICLE</td>\n",
       "      <td>7884</td>\n",
       "    </tr>\n",
       "    <tr>\n",
       "      <th>2</th>\n",
       "      <td>CRIMINAL DAMAGE</td>\n",
       "      <td>CRIMINAL DEFACEMENT</td>\n",
       "      <td>248</td>\n",
       "    </tr>\n",
       "    <tr>\n",
       "      <th>3</th>\n",
       "      <td>CRIMINAL DAMAGE</td>\n",
       "      <td>TO CITY OF CHICAGO PROPERTY</td>\n",
       "      <td>215</td>\n",
       "    </tr>\n",
       "    <tr>\n",
       "      <th>4</th>\n",
       "      <td>CRIMINAL DAMAGE</td>\n",
       "      <td>TO STATE SUPPORTED PROPERTY</td>\n",
       "      <td>36</td>\n",
       "    </tr>\n",
       "    <tr>\n",
       "      <th>...</th>\n",
       "      <td>...</td>\n",
       "      <td>...</td>\n",
       "      <td>...</td>\n",
       "    </tr>\n",
       "    <tr>\n",
       "      <th>281</th>\n",
       "      <td>HUMAN TRAFFICKING</td>\n",
       "      <td>COMMERCIAL SEX ACTS</td>\n",
       "      <td>10</td>\n",
       "    </tr>\n",
       "    <tr>\n",
       "      <th>282</th>\n",
       "      <td>HUMAN TRAFFICKING</td>\n",
       "      <td>INVOLUNTARY SERVITUDE</td>\n",
       "      <td>4</td>\n",
       "    </tr>\n",
       "    <tr>\n",
       "      <th>283</th>\n",
       "      <td>OTHER NARCOTIC VIOLATION</td>\n",
       "      <td>INTOXICATING COMPOUNDS</td>\n",
       "      <td>2</td>\n",
       "    </tr>\n",
       "    <tr>\n",
       "      <th>284</th>\n",
       "      <td>NON-CRIMINAL</td>\n",
       "      <td>CONCEALED CARRY LICENSE REVOCATION</td>\n",
       "      <td>2</td>\n",
       "    </tr>\n",
       "    <tr>\n",
       "      <th>285</th>\n",
       "      <td>PUBLIC INDECENCY</td>\n",
       "      <td>LICENSED PREMISE</td>\n",
       "      <td>2</td>\n",
       "    </tr>\n",
       "  </tbody>\n",
       "</table>\n",
       "<p>286 rows × 3 columns</p>\n",
       "</div>"
      ],
      "text/plain": [
       "                 Primary Type                         Description  Case Number\n",
       "0             CRIMINAL DAMAGE                         TO PROPERTY         7779\n",
       "1             CRIMINAL DAMAGE                          TO VEHICLE         7884\n",
       "2             CRIMINAL DAMAGE                 CRIMINAL DEFACEMENT          248\n",
       "3             CRIMINAL DAMAGE         TO CITY OF CHICAGO PROPERTY          215\n",
       "4             CRIMINAL DAMAGE         TO STATE SUPPORTED PROPERTY           36\n",
       "..                        ...                                 ...          ...\n",
       "281         HUMAN TRAFFICKING                 COMMERCIAL SEX ACTS           10\n",
       "282         HUMAN TRAFFICKING               INVOLUNTARY SERVITUDE            4\n",
       "283  OTHER NARCOTIC VIOLATION              INTOXICATING COMPOUNDS            2\n",
       "284              NON-CRIMINAL  CONCEALED CARRY LICENSE REVOCATION            2\n",
       "285          PUBLIC INDECENCY                    LICENSED PREMISE            2\n",
       "\n",
       "[286 rows x 3 columns]"
      ]
     },
     "execution_count": 39,
     "metadata": {},
     "output_type": "execute_result"
    }
   ],
   "source": [
    "# workaround - use observed=True in group by \n",
    "\n",
    "df_mem.groupby(['Primary Type', 'Description'], observed=True)['Case Number'].count().reset_index()"
   ]
  },
  {
   "cell_type": "code",
   "execution_count": null,
   "metadata": {},
   "outputs": [],
   "source": []
  },
  {
   "cell_type": "markdown",
   "metadata": {},
   "source": [
    "## Method Chaining\n",
    "\n",
    "Very similar to pipe %>% usage in tidyverse packages in R \n"
   ]
  },
  {
   "cell_type": "code",
   "execution_count": null,
   "metadata": {},
   "outputs": [],
   "source": [
    "# normally i'm used to writing snippets like this\n",
    "df.groupby(['Primary Type', 'Description'])['Case Number'].count().reset_index()"
   ]
  },
  {
   "cell_type": "code",
   "execution_count": 41,
   "metadata": {},
   "outputs": [
    {
     "data": {
      "text/html": [
       "<div>\n",
       "<style scoped>\n",
       "    .dataframe tbody tr th:only-of-type {\n",
       "        vertical-align: middle;\n",
       "    }\n",
       "\n",
       "    .dataframe tbody tr th {\n",
       "        vertical-align: top;\n",
       "    }\n",
       "\n",
       "    .dataframe thead th {\n",
       "        text-align: right;\n",
       "    }\n",
       "</style>\n",
       "<table border=\"1\" class=\"dataframe\">\n",
       "  <thead>\n",
       "    <tr style=\"text-align: right;\">\n",
       "      <th></th>\n",
       "      <th>Primary Type</th>\n",
       "      <th>Description</th>\n",
       "      <th>Case Number</th>\n",
       "    </tr>\n",
       "  </thead>\n",
       "  <tbody>\n",
       "    <tr>\n",
       "      <th>0</th>\n",
       "      <td>ARSON</td>\n",
       "      <td>AGGRAVATED</td>\n",
       "      <td>20</td>\n",
       "    </tr>\n",
       "    <tr>\n",
       "      <th>1</th>\n",
       "      <td>ARSON</td>\n",
       "      <td>ATTEMPT ARSON</td>\n",
       "      <td>25</td>\n",
       "    </tr>\n",
       "    <tr>\n",
       "      <th>2</th>\n",
       "      <td>ARSON</td>\n",
       "      <td>BY EXPLOSIVE</td>\n",
       "      <td>7</td>\n",
       "    </tr>\n",
       "    <tr>\n",
       "      <th>3</th>\n",
       "      <td>ARSON</td>\n",
       "      <td>BY FIRE</td>\n",
       "      <td>199</td>\n",
       "    </tr>\n",
       "    <tr>\n",
       "      <th>4</th>\n",
       "      <td>ARSON</td>\n",
       "      <td>POSSESSION - CHEMICAL / DRY-ICE DEVICE</td>\n",
       "      <td>1</td>\n",
       "    </tr>\n",
       "    <tr>\n",
       "      <th>...</th>\n",
       "      <td>...</td>\n",
       "      <td>...</td>\n",
       "      <td>...</td>\n",
       "    </tr>\n",
       "    <tr>\n",
       "      <th>281</th>\n",
       "      <td>WEAPONS VIOLATION</td>\n",
       "      <td>UNLAWFUL SALE - HANDGUN</td>\n",
       "      <td>1</td>\n",
       "    </tr>\n",
       "    <tr>\n",
       "      <th>282</th>\n",
       "      <td>WEAPONS VIOLATION</td>\n",
       "      <td>UNLAWFUL USE - HANDGUN</td>\n",
       "      <td>191</td>\n",
       "    </tr>\n",
       "    <tr>\n",
       "      <th>283</th>\n",
       "      <td>WEAPONS VIOLATION</td>\n",
       "      <td>UNLAWFUL USE - OTHER DANGEROUS WEAPON</td>\n",
       "      <td>43</td>\n",
       "    </tr>\n",
       "    <tr>\n",
       "      <th>284</th>\n",
       "      <td>WEAPONS VIOLATION</td>\n",
       "      <td>UNLAWFUL USE - OTHER FIREARM</td>\n",
       "      <td>230</td>\n",
       "    </tr>\n",
       "    <tr>\n",
       "      <th>285</th>\n",
       "      <td>WEAPONS VIOLATION</td>\n",
       "      <td>UNLAWFUL USE / SALE OF AIR RIFLE</td>\n",
       "      <td>12</td>\n",
       "    </tr>\n",
       "  </tbody>\n",
       "</table>\n",
       "<p>286 rows × 3 columns</p>\n",
       "</div>"
      ],
      "text/plain": [
       "          Primary Type                             Description  Case Number\n",
       "0                ARSON                              AGGRAVATED           20\n",
       "1                ARSON                           ATTEMPT ARSON           25\n",
       "2                ARSON                            BY EXPLOSIVE            7\n",
       "3                ARSON                                 BY FIRE          199\n",
       "4                ARSON  POSSESSION - CHEMICAL / DRY-ICE DEVICE            1\n",
       "..                 ...                                     ...          ...\n",
       "281  WEAPONS VIOLATION                 UNLAWFUL SALE - HANDGUN            1\n",
       "282  WEAPONS VIOLATION                  UNLAWFUL USE - HANDGUN          191\n",
       "283  WEAPONS VIOLATION   UNLAWFUL USE - OTHER DANGEROUS WEAPON           43\n",
       "284  WEAPONS VIOLATION            UNLAWFUL USE - OTHER FIREARM          230\n",
       "285  WEAPONS VIOLATION        UNLAWFUL USE / SALE OF AIR RIFLE           12\n",
       "\n",
       "[286 rows x 3 columns]"
      ]
     },
     "execution_count": 41,
     "metadata": {},
     "output_type": "execute_result"
    }
   ],
   "source": [
    "# better readability \n",
    "(df\n",
    " .groupby(['Primary Type', 'Description'])['Case Number']\n",
    " .count()\n",
    " .reset_index()\n",
    ")"
   ]
  },
  {
   "cell_type": "markdown",
   "metadata": {},
   "source": [
    "### Number of Arrests by Month \n",
    "Lets compare my normal workflow with chaining \n"
   ]
  },
  {
   "cell_type": "code",
   "execution_count": 42,
   "metadata": {},
   "outputs": [
    {
     "name": "stderr",
     "output_type": "stream",
     "text": [
      "<ipython-input-42-37c7fb6f2c61>:9: SettingWithCopyWarning: \n",
      "A value is trying to be set on a copy of a slice from a DataFrame.\n",
      "Try using .loc[row_indexer,col_indexer] = value instead\n",
      "\n",
      "See the caveats in the documentation: https://pandas.pydata.org/pandas-docs/stable/user_guide/indexing.html#returning-a-view-versus-a-copy\n",
      "  df_arrests['Month'] = df_arrests['Date'].dt.strftime('%Y-%m')\n",
      "<ipython-input-42-37c7fb6f2c61>:12: SettingWithCopyWarning: \n",
      "A value is trying to be set on a copy of a slice from a DataFrame\n",
      "\n",
      "See the caveats in the documentation: https://pandas.pydata.org/pandas-docs/stable/user_guide/indexing.html#returning-a-view-versus-a-copy\n",
      "  df_arrests.dropna(inplace=True)\n"
     ]
    },
    {
     "data": {
      "text/plain": [
       "Month\n",
       "2022-01    1706\n",
       "2022-02    2067\n",
       "2022-03    2181\n",
       "2022-04    2282\n",
       "2022-05    2694\n",
       "2022-06    2352\n",
       "2022-07    2177\n",
       "2022-08    1449\n",
       "Name: Arrest, dtype: int64"
      ]
     },
     "execution_count": 42,
     "metadata": {},
     "output_type": "execute_result"
    }
   ],
   "source": [
    "# %%timeit\n",
    "\n",
    "# my typical workflow \n",
    "\n",
    "# filter for arrests \n",
    "df_arrests = df[df['Arrest']==True]\n",
    "\n",
    "# extract month from Date \n",
    "df_arrests['Month'] = df_arrests['Date'].dt.strftime('%Y-%m')\n",
    "\n",
    "# dropna\n",
    "df_arrests.dropna(inplace=True)\n",
    "\n",
    "df_arrests.groupby(['Month'])['Arrest'].sum()"
   ]
  },
  {
   "cell_type": "code",
   "execution_count": 48,
   "metadata": {},
   "outputs": [
    {
     "data": {
      "text/plain": [
       "Month\n",
       "2022-01    1706\n",
       "2022-02    2067\n",
       "2022-03    2181\n",
       "2022-04    2282\n",
       "2022-05    2694\n",
       "2022-06    2352\n",
       "2022-07    2177\n",
       "2022-08    1449\n",
       "Name: Arrest, dtype: int64"
      ]
     },
     "execution_count": 48,
     "metadata": {},
     "output_type": "execute_result"
    }
   ],
   "source": [
    "# %%timeit\n",
    "\n",
    "# using chains\n",
    "\n",
    "(df\n",
    " .query('Arrest == True')\n",
    " .assign(Month = lambda row: row['Date'].dt.strftime('%Y-%m'))\n",
    " .dropna()\n",
    " .groupby(['Month'])\n",
    " ['Arrest']\n",
    " .sum()\n",
    ")\n"
   ]
  },
  {
   "cell_type": "markdown",
   "metadata": {},
   "source": [
    "### Things to note on chaining \n",
    "- inplace is not saving us any memory ([Dropna implementation](https://github.com/pandas-dev/pandas/blob/v1.4.4/pandas/core/frame.py#L5882-L6037))\n",
    "- most useful during the initial load and during clean up of data steps \n",
    "- chaining makes it super easy to follow the code \n",
    "- reduces unncessary global variable assignments \n",
    "- easy to debug - just comment out the line "
   ]
  },
  {
   "cell_type": "markdown",
   "metadata": {},
   "source": [
    "#### query vs filtering \n",
    "\n",
    "- query is easy to read \n",
    "- read that query slightly performs better in large datsets otherwise not much difference \n",
    "- no need to repeat the column names multiple times in the filter mask "
   ]
  },
  {
   "cell_type": "code",
   "execution_count": 49,
   "metadata": {},
   "outputs": [
    {
     "data": {
      "text/html": [
       "<div>\n",
       "<style scoped>\n",
       "    .dataframe tbody tr th:only-of-type {\n",
       "        vertical-align: middle;\n",
       "    }\n",
       "\n",
       "    .dataframe tbody tr th {\n",
       "        vertical-align: top;\n",
       "    }\n",
       "\n",
       "    .dataframe thead th {\n",
       "        text-align: right;\n",
       "    }\n",
       "</style>\n",
       "<table border=\"1\" class=\"dataframe\">\n",
       "  <thead>\n",
       "    <tr style=\"text-align: right;\">\n",
       "      <th></th>\n",
       "      <th>ID</th>\n",
       "      <th>Case Number</th>\n",
       "      <th>Date</th>\n",
       "      <th>Block</th>\n",
       "      <th>IUCR</th>\n",
       "      <th>Primary Type</th>\n",
       "      <th>Description</th>\n",
       "      <th>Location Description</th>\n",
       "      <th>Arrest</th>\n",
       "      <th>Domestic</th>\n",
       "      <th>...</th>\n",
       "      <th>Community Area</th>\n",
       "      <th>FBI Code</th>\n",
       "      <th>X Coordinate</th>\n",
       "      <th>Y Coordinate</th>\n",
       "      <th>Year</th>\n",
       "      <th>Updated On</th>\n",
       "      <th>Latitude</th>\n",
       "      <th>Longitude</th>\n",
       "      <th>Location</th>\n",
       "      <th>Primary Type Cat</th>\n",
       "    </tr>\n",
       "  </thead>\n",
       "  <tbody>\n",
       "    <tr>\n",
       "      <th>6</th>\n",
       "      <td>12763692</td>\n",
       "      <td>JF320639</td>\n",
       "      <td>2022-07-17 02:00:00</td>\n",
       "      <td>008XX W 59TH ST</td>\n",
       "      <td>0325</td>\n",
       "      <td>ROBBERY</td>\n",
       "      <td>VEHICULAR HIJACKING</td>\n",
       "      <td>GAS STATION</td>\n",
       "      <td>False</td>\n",
       "      <td>False</td>\n",
       "      <td>...</td>\n",
       "      <td>68</td>\n",
       "      <td>03</td>\n",
       "      <td>1171833.0</td>\n",
       "      <td>1865730.0</td>\n",
       "      <td>2022</td>\n",
       "      <td>2022-07-24 16:49:35</td>\n",
       "      <td>41.787017</td>\n",
       "      <td>-87.645506</td>\n",
       "      <td>(41.78701723, -87.645505595)</td>\n",
       "      <td>ROBBERY</td>\n",
       "    </tr>\n",
       "    <tr>\n",
       "      <th>7</th>\n",
       "      <td>12769273</td>\n",
       "      <td>JF327430</td>\n",
       "      <td>2022-03-01 11:00:00</td>\n",
       "      <td>080XX S DAMEN AVE</td>\n",
       "      <td>1153</td>\n",
       "      <td>DECEPTIVE PRACTICE</td>\n",
       "      <td>FINANCIAL IDENTITY THEFT OVER $ 300</td>\n",
       "      <td>RESIDENCE</td>\n",
       "      <td>False</td>\n",
       "      <td>False</td>\n",
       "      <td>...</td>\n",
       "      <td>71</td>\n",
       "      <td>11</td>\n",
       "      <td>1164430.0</td>\n",
       "      <td>1851162.0</td>\n",
       "      <td>2022</td>\n",
       "      <td>2022-07-24 16:47:33</td>\n",
       "      <td>41.747200</td>\n",
       "      <td>-87.673059</td>\n",
       "      <td>(41.747199949, -87.673059114)</td>\n",
       "      <td>DECEPTIVE PRACTICE</td>\n",
       "    </tr>\n",
       "  </tbody>\n",
       "</table>\n",
       "<p>2 rows × 23 columns</p>\n",
       "</div>"
      ],
      "text/plain": [
       "         ID Case Number                Date              Block  IUCR  \\\n",
       "6  12763692    JF320639 2022-07-17 02:00:00    008XX W 59TH ST  0325   \n",
       "7  12769273    JF327430 2022-03-01 11:00:00  080XX S DAMEN AVE  1153   \n",
       "\n",
       "         Primary Type                          Description  \\\n",
       "6             ROBBERY                  VEHICULAR HIJACKING   \n",
       "7  DECEPTIVE PRACTICE  FINANCIAL IDENTITY THEFT OVER $ 300   \n",
       "\n",
       "  Location Description  Arrest  Domestic  ...  Community Area  FBI Code  \\\n",
       "6          GAS STATION   False     False  ...              68        03   \n",
       "7            RESIDENCE   False     False  ...              71        11   \n",
       "\n",
       "   X Coordinate  Y Coordinate  Year          Updated On   Latitude  Longitude  \\\n",
       "6     1171833.0     1865730.0  2022 2022-07-24 16:49:35  41.787017 -87.645506   \n",
       "7     1164430.0     1851162.0  2022 2022-07-24 16:47:33  41.747200 -87.673059   \n",
       "\n",
       "                        Location    Primary Type Cat  \n",
       "6   (41.78701723, -87.645505595)             ROBBERY  \n",
       "7  (41.747199949, -87.673059114)  DECEPTIVE PRACTICE  \n",
       "\n",
       "[2 rows x 23 columns]"
      ]
     },
     "execution_count": 49,
     "metadata": {},
     "output_type": "execute_result"
    }
   ],
   "source": [
    "# filtering for wards between 10 and 20 \n",
    "df[(df['Ward']>10) & (df['Ward']<20)].head(2)"
   ]
  },
  {
   "cell_type": "code",
   "execution_count": 50,
   "metadata": {},
   "outputs": [
    {
     "data": {
      "text/html": [
       "<div>\n",
       "<style scoped>\n",
       "    .dataframe tbody tr th:only-of-type {\n",
       "        vertical-align: middle;\n",
       "    }\n",
       "\n",
       "    .dataframe tbody tr th {\n",
       "        vertical-align: top;\n",
       "    }\n",
       "\n",
       "    .dataframe thead th {\n",
       "        text-align: right;\n",
       "    }\n",
       "</style>\n",
       "<table border=\"1\" class=\"dataframe\">\n",
       "  <thead>\n",
       "    <tr style=\"text-align: right;\">\n",
       "      <th></th>\n",
       "      <th>ID</th>\n",
       "      <th>Case Number</th>\n",
       "      <th>Date</th>\n",
       "      <th>Block</th>\n",
       "      <th>IUCR</th>\n",
       "      <th>Primary Type</th>\n",
       "      <th>Description</th>\n",
       "      <th>Location Description</th>\n",
       "      <th>Arrest</th>\n",
       "      <th>Domestic</th>\n",
       "      <th>...</th>\n",
       "      <th>Community Area</th>\n",
       "      <th>FBI Code</th>\n",
       "      <th>X Coordinate</th>\n",
       "      <th>Y Coordinate</th>\n",
       "      <th>Year</th>\n",
       "      <th>Updated On</th>\n",
       "      <th>Latitude</th>\n",
       "      <th>Longitude</th>\n",
       "      <th>Location</th>\n",
       "      <th>Primary Type Cat</th>\n",
       "    </tr>\n",
       "  </thead>\n",
       "  <tbody>\n",
       "    <tr>\n",
       "      <th>6</th>\n",
       "      <td>12763692</td>\n",
       "      <td>JF320639</td>\n",
       "      <td>2022-07-17 02:00:00</td>\n",
       "      <td>008XX W 59TH ST</td>\n",
       "      <td>0325</td>\n",
       "      <td>ROBBERY</td>\n",
       "      <td>VEHICULAR HIJACKING</td>\n",
       "      <td>GAS STATION</td>\n",
       "      <td>False</td>\n",
       "      <td>False</td>\n",
       "      <td>...</td>\n",
       "      <td>68</td>\n",
       "      <td>03</td>\n",
       "      <td>1171833.0</td>\n",
       "      <td>1865730.0</td>\n",
       "      <td>2022</td>\n",
       "      <td>2022-07-24 16:49:35</td>\n",
       "      <td>41.787017</td>\n",
       "      <td>-87.645506</td>\n",
       "      <td>(41.78701723, -87.645505595)</td>\n",
       "      <td>ROBBERY</td>\n",
       "    </tr>\n",
       "    <tr>\n",
       "      <th>7</th>\n",
       "      <td>12769273</td>\n",
       "      <td>JF327430</td>\n",
       "      <td>2022-03-01 11:00:00</td>\n",
       "      <td>080XX S DAMEN AVE</td>\n",
       "      <td>1153</td>\n",
       "      <td>DECEPTIVE PRACTICE</td>\n",
       "      <td>FINANCIAL IDENTITY THEFT OVER $ 300</td>\n",
       "      <td>RESIDENCE</td>\n",
       "      <td>False</td>\n",
       "      <td>False</td>\n",
       "      <td>...</td>\n",
       "      <td>71</td>\n",
       "      <td>11</td>\n",
       "      <td>1164430.0</td>\n",
       "      <td>1851162.0</td>\n",
       "      <td>2022</td>\n",
       "      <td>2022-07-24 16:47:33</td>\n",
       "      <td>41.747200</td>\n",
       "      <td>-87.673059</td>\n",
       "      <td>(41.747199949, -87.673059114)</td>\n",
       "      <td>DECEPTIVE PRACTICE</td>\n",
       "    </tr>\n",
       "  </tbody>\n",
       "</table>\n",
       "<p>2 rows × 23 columns</p>\n",
       "</div>"
      ],
      "text/plain": [
       "         ID Case Number                Date              Block  IUCR  \\\n",
       "6  12763692    JF320639 2022-07-17 02:00:00    008XX W 59TH ST  0325   \n",
       "7  12769273    JF327430 2022-03-01 11:00:00  080XX S DAMEN AVE  1153   \n",
       "\n",
       "         Primary Type                          Description  \\\n",
       "6             ROBBERY                  VEHICULAR HIJACKING   \n",
       "7  DECEPTIVE PRACTICE  FINANCIAL IDENTITY THEFT OVER $ 300   \n",
       "\n",
       "  Location Description  Arrest  Domestic  ...  Community Area  FBI Code  \\\n",
       "6          GAS STATION   False     False  ...              68        03   \n",
       "7            RESIDENCE   False     False  ...              71        11   \n",
       "\n",
       "   X Coordinate  Y Coordinate  Year          Updated On   Latitude  Longitude  \\\n",
       "6     1171833.0     1865730.0  2022 2022-07-24 16:49:35  41.787017 -87.645506   \n",
       "7     1164430.0     1851162.0  2022 2022-07-24 16:47:33  41.747200 -87.673059   \n",
       "\n",
       "                        Location    Primary Type Cat  \n",
       "6   (41.78701723, -87.645505595)             ROBBERY  \n",
       "7  (41.747199949, -87.673059114)  DECEPTIVE PRACTICE  \n",
       "\n",
       "[2 rows x 23 columns]"
      ]
     },
     "execution_count": 50,
     "metadata": {},
     "output_type": "execute_result"
    }
   ],
   "source": [
    "# using query to filters for wards btw 10 and 20\n",
    "df.query(\"10<Ward<20\").head(2)"
   ]
  },
  {
   "cell_type": "markdown",
   "metadata": {},
   "source": [
    "### Using pipe function \n",
    "- pipe can be used to include any user defined methods in the chains \n",
    "\n",
    "\n",
    "Get the percentage of crimes by hour for in each month"
   ]
  },
  {
   "cell_type": "code",
   "execution_count": 59,
   "metadata": {},
   "outputs": [],
   "source": [
    "def add_hour_month_column(df_):\n",
    "    '''\n",
    "    Adds the hour and month using the date column \n",
    "    and returns the dataframe\n",
    "    '''\n",
    "    \n",
    "    df_['Month'] = df_['Date'].dt.month\n",
    "    df_['Hour'] = df_['Date'].dt.hour\n",
    "    \n",
    "    return df_\n",
    "\n",
    "def percent_of_total(df_):\n",
    "    '''\n",
    "    Returns the dataframe with percent of total by column \n",
    "    '''\n",
    "    \n",
    "    return df_.apply(lambda x: x/x.sum(), axis=0)"
   ]
  },
  {
   "cell_type": "code",
   "execution_count": 67,
   "metadata": {},
   "outputs": [
    {
     "data": {
      "text/html": [
       "<style  type=\"text/css\" >\n",
       "#T_034ee_row0_col0{\n",
       "            background-color:  #eae6f1;\n",
       "            color:  #000000;\n",
       "        }#T_034ee_row0_col1,#T_034ee_row1_col1,#T_034ee_row2_col1,#T_034ee_row3_col2,#T_034ee_row4_col1,#T_034ee_row5_col3,#T_034ee_row6_col4,#T_034ee_row7_col0,#T_034ee_row8_col6,#T_034ee_row9_col6,#T_034ee_row10_col6,#T_034ee_row11_col7,#T_034ee_row12_col7,#T_034ee_row13_col6,#T_034ee_row14_col4,#T_034ee_row15_col7,#T_034ee_row16_col5,#T_034ee_row17_col6,#T_034ee_row18_col4,#T_034ee_row19_col3,#T_034ee_row20_col0,#T_034ee_row21_col0,#T_034ee_row22_col2,#T_034ee_row23_col0{\n",
       "            background-color:  #fff7fb;\n",
       "            color:  #000000;\n",
       "        }#T_034ee_row0_col2{\n",
       "            background-color:  #e2dfee;\n",
       "            color:  #000000;\n",
       "        }#T_034ee_row0_col3,#T_034ee_row11_col6,#T_034ee_row18_col7{\n",
       "            background-color:  #d9d8ea;\n",
       "            color:  #000000;\n",
       "        }#T_034ee_row0_col4{\n",
       "            background-color:  #3f93c2;\n",
       "            color:  #000000;\n",
       "        }#T_034ee_row0_col5{\n",
       "            background-color:  #0f76b3;\n",
       "            color:  #f1f1f1;\n",
       "        }#T_034ee_row0_col6{\n",
       "            background-color:  #0a73b2;\n",
       "            color:  #f1f1f1;\n",
       "        }#T_034ee_row0_col7,#T_034ee_row1_col7,#T_034ee_row2_col6,#T_034ee_row3_col6,#T_034ee_row4_col6,#T_034ee_row5_col7,#T_034ee_row6_col7,#T_034ee_row7_col1,#T_034ee_row8_col0,#T_034ee_row9_col2,#T_034ee_row10_col0,#T_034ee_row11_col1,#T_034ee_row12_col3,#T_034ee_row13_col1,#T_034ee_row14_col1,#T_034ee_row15_col2,#T_034ee_row16_col1,#T_034ee_row17_col0,#T_034ee_row18_col0,#T_034ee_row19_col5,#T_034ee_row20_col4,#T_034ee_row21_col6,#T_034ee_row22_col6,#T_034ee_row23_col6{\n",
       "            background-color:  #023858;\n",
       "            color:  #f1f1f1;\n",
       "        }#T_034ee_row1_col0,#T_034ee_row7_col6{\n",
       "            background-color:  #e7e3f0;\n",
       "            color:  #000000;\n",
       "        }#T_034ee_row1_col2{\n",
       "            background-color:  #f5eff6;\n",
       "            color:  #000000;\n",
       "        }#T_034ee_row1_col3{\n",
       "            background-color:  #b5c4df;\n",
       "            color:  #000000;\n",
       "        }#T_034ee_row1_col4{\n",
       "            background-color:  #84b0d3;\n",
       "            color:  #000000;\n",
       "        }#T_034ee_row1_col5,#T_034ee_row17_col7,#T_034ee_row22_col4{\n",
       "            background-color:  #0771b1;\n",
       "            color:  #f1f1f1;\n",
       "        }#T_034ee_row1_col6{\n",
       "            background-color:  #034369;\n",
       "            color:  #f1f1f1;\n",
       "        }#T_034ee_row2_col0,#T_034ee_row17_col3{\n",
       "            background-color:  #8cb3d5;\n",
       "            color:  #000000;\n",
       "        }#T_034ee_row2_col2{\n",
       "            background-color:  #dddbec;\n",
       "            color:  #000000;\n",
       "        }#T_034ee_row2_col3,#T_034ee_row8_col7{\n",
       "            background-color:  #d0d1e6;\n",
       "            color:  #000000;\n",
       "        }#T_034ee_row2_col4{\n",
       "            background-color:  #b3c3de;\n",
       "            color:  #000000;\n",
       "        }#T_034ee_row2_col5,#T_034ee_row19_col6{\n",
       "            background-color:  #045788;\n",
       "            color:  #f1f1f1;\n",
       "        }#T_034ee_row2_col7{\n",
       "            background-color:  #056ead;\n",
       "            color:  #f1f1f1;\n",
       "        }#T_034ee_row3_col0,#T_034ee_row22_col0{\n",
       "            background-color:  #ece7f2;\n",
       "            color:  #000000;\n",
       "        }#T_034ee_row3_col1{\n",
       "            background-color:  #e0deed;\n",
       "            color:  #000000;\n",
       "        }#T_034ee_row3_col3,#T_034ee_row12_col5{\n",
       "            background-color:  #bfc9e1;\n",
       "            color:  #000000;\n",
       "        }#T_034ee_row3_col4{\n",
       "            background-color:  #7bacd1;\n",
       "            color:  #000000;\n",
       "        }#T_034ee_row3_col5{\n",
       "            background-color:  #e6e2ef;\n",
       "            color:  #000000;\n",
       "        }#T_034ee_row3_col7,#T_034ee_row5_col0{\n",
       "            background-color:  #197db7;\n",
       "            color:  #000000;\n",
       "        }#T_034ee_row4_col0{\n",
       "            background-color:  #529bc7;\n",
       "            color:  #000000;\n",
       "        }#T_034ee_row4_col2,#T_034ee_row10_col4,#T_034ee_row16_col7{\n",
       "            background-color:  #a7bddb;\n",
       "            color:  #000000;\n",
       "        }#T_034ee_row4_col3{\n",
       "            background-color:  #76aad0;\n",
       "            color:  #000000;\n",
       "        }#T_034ee_row4_col4{\n",
       "            background-color:  #a2bcda;\n",
       "            color:  #000000;\n",
       "        }#T_034ee_row4_col5{\n",
       "            background-color:  #c9cee4;\n",
       "            color:  #000000;\n",
       "        }#T_034ee_row4_col7{\n",
       "            background-color:  #1278b4;\n",
       "            color:  #f1f1f1;\n",
       "        }#T_034ee_row5_col1{\n",
       "            background-color:  #fdf5fa;\n",
       "            color:  #000000;\n",
       "        }#T_034ee_row5_col2,#T_034ee_row23_col1{\n",
       "            background-color:  #e4e1ef;\n",
       "            color:  #000000;\n",
       "        }#T_034ee_row5_col4{\n",
       "            background-color:  #b1c2de;\n",
       "            color:  #000000;\n",
       "        }#T_034ee_row5_col5{\n",
       "            background-color:  #034f7d;\n",
       "            color:  #f1f1f1;\n",
       "        }#T_034ee_row5_col6{\n",
       "            background-color:  #157ab5;\n",
       "            color:  #000000;\n",
       "        }#T_034ee_row6_col0{\n",
       "            background-color:  #80aed2;\n",
       "            color:  #000000;\n",
       "        }#T_034ee_row6_col1{\n",
       "            background-color:  #056ba9;\n",
       "            color:  #f1f1f1;\n",
       "        }#T_034ee_row6_col2{\n",
       "            background-color:  #4a98c5;\n",
       "            color:  #000000;\n",
       "        }#T_034ee_row6_col3{\n",
       "            background-color:  #4e9ac6;\n",
       "            color:  #000000;\n",
       "        }#T_034ee_row6_col5{\n",
       "            background-color:  #78abd0;\n",
       "            color:  #000000;\n",
       "        }#T_034ee_row6_col6{\n",
       "            background-color:  #7dacd1;\n",
       "            color:  #000000;\n",
       "        }#T_034ee_row7_col2,#T_034ee_row9_col1{\n",
       "            background-color:  #0872b1;\n",
       "            color:  #f1f1f1;\n",
       "        }#T_034ee_row7_col3{\n",
       "            background-color:  #0570b0;\n",
       "            color:  #f1f1f1;\n",
       "        }#T_034ee_row7_col4{\n",
       "            background-color:  #308cbe;\n",
       "            color:  #000000;\n",
       "        }#T_034ee_row7_col5{\n",
       "            background-color:  #f1ebf4;\n",
       "            color:  #000000;\n",
       "        }#T_034ee_row7_col7{\n",
       "            background-color:  #e0dded;\n",
       "            color:  #000000;\n",
       "        }#T_034ee_row8_col1{\n",
       "            background-color:  #0567a2;\n",
       "            color:  #f1f1f1;\n",
       "        }#T_034ee_row8_col2{\n",
       "            background-color:  #0d75b3;\n",
       "            color:  #f1f1f1;\n",
       "        }#T_034ee_row8_col3{\n",
       "            background-color:  #1b7eb7;\n",
       "            color:  #000000;\n",
       "        }#T_034ee_row8_col4{\n",
       "            background-color:  #4897c4;\n",
       "            color:  #000000;\n",
       "        }#T_034ee_row8_col5{\n",
       "            background-color:  #8bb2d4;\n",
       "            color:  #000000;\n",
       "        }#T_034ee_row9_col0,#T_034ee_row10_col5{\n",
       "            background-color:  #a5bddb;\n",
       "            color:  #000000;\n",
       "        }#T_034ee_row9_col3,#T_034ee_row19_col7{\n",
       "            background-color:  #1c7fb8;\n",
       "            color:  #000000;\n",
       "        }#T_034ee_row9_col4{\n",
       "            background-color:  #cacee5;\n",
       "            color:  #000000;\n",
       "        }#T_034ee_row9_col5{\n",
       "            background-color:  #b4c4df;\n",
       "            color:  #000000;\n",
       "        }#T_034ee_row9_col7{\n",
       "            background-color:  #fcf4fa;\n",
       "            color:  #000000;\n",
       "        }#T_034ee_row10_col1,#T_034ee_row21_col3{\n",
       "            background-color:  #4295c3;\n",
       "            color:  #000000;\n",
       "        }#T_034ee_row10_col2{\n",
       "            background-color:  #0c74b2;\n",
       "            color:  #f1f1f1;\n",
       "        }#T_034ee_row10_col3{\n",
       "            background-color:  #71a8ce;\n",
       "            color:  #000000;\n",
       "        }#T_034ee_row10_col7,#T_034ee_row13_col5{\n",
       "            background-color:  #b9c6e0;\n",
       "            color:  #000000;\n",
       "        }#T_034ee_row11_col0{\n",
       "            background-color:  #023e62;\n",
       "            color:  #f1f1f1;\n",
       "        }#T_034ee_row11_col2,#T_034ee_row12_col2{\n",
       "            background-color:  #045d92;\n",
       "            color:  #f1f1f1;\n",
       "        }#T_034ee_row11_col3{\n",
       "            background-color:  #04629a;\n",
       "            color:  #f1f1f1;\n",
       "        }#T_034ee_row11_col4{\n",
       "            background-color:  #045e94;\n",
       "            color:  #f1f1f1;\n",
       "        }#T_034ee_row11_col5{\n",
       "            background-color:  #549cc7;\n",
       "            color:  #000000;\n",
       "        }#T_034ee_row12_col0{\n",
       "            background-color:  #05659f;\n",
       "            color:  #f1f1f1;\n",
       "        }#T_034ee_row12_col1{\n",
       "            background-color:  #034c78;\n",
       "            color:  #f1f1f1;\n",
       "        }#T_034ee_row12_col4{\n",
       "            background-color:  #4c99c5;\n",
       "            color:  #000000;\n",
       "        }#T_034ee_row12_col6{\n",
       "            background-color:  #f8f1f8;\n",
       "            color:  #000000;\n",
       "        }#T_034ee_row13_col0{\n",
       "            background-color:  #0566a0;\n",
       "            color:  #f1f1f1;\n",
       "        }#T_034ee_row13_col2{\n",
       "            background-color:  #045483;\n",
       "            color:  #f1f1f1;\n",
       "        }#T_034ee_row13_col3,#T_034ee_row18_col1{\n",
       "            background-color:  #86b0d3;\n",
       "            color:  #000000;\n",
       "        }#T_034ee_row13_col4,#T_034ee_row17_col5{\n",
       "            background-color:  #e5e1ef;\n",
       "            color:  #000000;\n",
       "        }#T_034ee_row13_col7,#T_034ee_row15_col5,#T_034ee_row18_col6{\n",
       "            background-color:  #d5d5e8;\n",
       "            color:  #000000;\n",
       "        }#T_034ee_row14_col0{\n",
       "            background-color:  #b8c6e0;\n",
       "            color:  #000000;\n",
       "        }#T_034ee_row14_col2{\n",
       "            background-color:  #023c5f;\n",
       "            color:  #f1f1f1;\n",
       "        }#T_034ee_row14_col3{\n",
       "            background-color:  #056fae;\n",
       "            color:  #f1f1f1;\n",
       "        }#T_034ee_row14_col5{\n",
       "            background-color:  #ede7f2;\n",
       "            color:  #000000;\n",
       "        }#T_034ee_row14_col6{\n",
       "            background-color:  #f2ecf5;\n",
       "            color:  #000000;\n",
       "        }#T_034ee_row14_col7{\n",
       "            background-color:  #ede8f3;\n",
       "            color:  #000000;\n",
       "        }#T_034ee_row15_col0,#T_034ee_row16_col3{\n",
       "            background-color:  #2a88bc;\n",
       "            color:  #000000;\n",
       "        }#T_034ee_row15_col1{\n",
       "            background-color:  #04598c;\n",
       "            color:  #f1f1f1;\n",
       "        }#T_034ee_row15_col3{\n",
       "            background-color:  #67a4cc;\n",
       "            color:  #000000;\n",
       "        }#T_034ee_row15_col4{\n",
       "            background-color:  #65a3cb;\n",
       "            color:  #000000;\n",
       "        }#T_034ee_row15_col6{\n",
       "            background-color:  #f4edf6;\n",
       "            color:  #000000;\n",
       "        }#T_034ee_row16_col0{\n",
       "            background-color:  #02395a;\n",
       "            color:  #f1f1f1;\n",
       "        }#T_034ee_row16_col2{\n",
       "            background-color:  #7eadd1;\n",
       "            color:  #000000;\n",
       "        }#T_034ee_row16_col4{\n",
       "            background-color:  #75a9cf;\n",
       "            color:  #000000;\n",
       "        }#T_034ee_row16_col6{\n",
       "            background-color:  #589ec8;\n",
       "            color:  #000000;\n",
       "        }#T_034ee_row17_col1{\n",
       "            background-color:  #045687;\n",
       "            color:  #f1f1f1;\n",
       "        }#T_034ee_row17_col2{\n",
       "            background-color:  #88b1d4;\n",
       "            color:  #000000;\n",
       "        }#T_034ee_row17_col4{\n",
       "            background-color:  #d4d4e8;\n",
       "            color:  #000000;\n",
       "        }#T_034ee_row18_col2{\n",
       "            background-color:  #adc1dd;\n",
       "            color:  #000000;\n",
       "        }#T_034ee_row18_col3{\n",
       "            background-color:  #5ea0ca;\n",
       "            color:  #000000;\n",
       "        }#T_034ee_row18_col5,#T_034ee_row23_col2{\n",
       "            background-color:  #dfddec;\n",
       "            color:  #000000;\n",
       "        }#T_034ee_row19_col0{\n",
       "            background-color:  #023d60;\n",
       "            color:  #f1f1f1;\n",
       "        }#T_034ee_row19_col1{\n",
       "            background-color:  #03476f;\n",
       "            color:  #f1f1f1;\n",
       "        }#T_034ee_row19_col2{\n",
       "            background-color:  #03446a;\n",
       "            color:  #f1f1f1;\n",
       "        }#T_034ee_row19_col4{\n",
       "            background-color:  #1e80b8;\n",
       "            color:  #000000;\n",
       "        }#T_034ee_row20_col1{\n",
       "            background-color:  #cdd0e5;\n",
       "            color:  #000000;\n",
       "        }#T_034ee_row20_col2{\n",
       "            background-color:  #c8cde4;\n",
       "            color:  #000000;\n",
       "        }#T_034ee_row20_col3{\n",
       "            background-color:  #d2d3e7;\n",
       "            color:  #000000;\n",
       "        }#T_034ee_row20_col5{\n",
       "            background-color:  #328dbf;\n",
       "            color:  #000000;\n",
       "        }#T_034ee_row20_col6{\n",
       "            background-color:  #9ab8d8;\n",
       "            color:  #000000;\n",
       "        }#T_034ee_row20_col7{\n",
       "            background-color:  #348ebf;\n",
       "            color:  #000000;\n",
       "        }#T_034ee_row21_col1{\n",
       "            background-color:  #bdc8e1;\n",
       "            color:  #000000;\n",
       "        }#T_034ee_row21_col2{\n",
       "            background-color:  #91b5d6;\n",
       "            color:  #000000;\n",
       "        }#T_034ee_row21_col4,#T_034ee_row22_col5{\n",
       "            background-color:  #023f64;\n",
       "            color:  #f1f1f1;\n",
       "        }#T_034ee_row21_col5{\n",
       "            background-color:  #056faf;\n",
       "            color:  #f1f1f1;\n",
       "        }#T_034ee_row21_col7{\n",
       "            background-color:  #0569a5;\n",
       "            color:  #f1f1f1;\n",
       "        }#T_034ee_row22_col1{\n",
       "            background-color:  #cccfe5;\n",
       "            color:  #000000;\n",
       "        }#T_034ee_row22_col3{\n",
       "            background-color:  #b0c2de;\n",
       "            color:  #000000;\n",
       "        }#T_034ee_row22_col7{\n",
       "            background-color:  #8fb4d6;\n",
       "            color:  #000000;\n",
       "        }#T_034ee_row23_col3{\n",
       "            background-color:  #60a1ca;\n",
       "            color:  #000000;\n",
       "        }#T_034ee_row23_col4{\n",
       "            background-color:  #0568a3;\n",
       "            color:  #f1f1f1;\n",
       "        }#T_034ee_row23_col5{\n",
       "            background-color:  #03466e;\n",
       "            color:  #f1f1f1;\n",
       "        }#T_034ee_row23_col7{\n",
       "            background-color:  #167bb6;\n",
       "            color:  #000000;\n",
       "        }</style><table id=\"T_034ee_\" ><thead>    <tr>        <th class=\"blank level0\" ></th>        <th class=\"col_heading level0 col0\" colspan=\"8\">Count</th>    </tr>    <tr>        <th class=\"index_name level1\" >Month</th>        <th class=\"col_heading level1 col0\" >1</th>        <th class=\"col_heading level1 col1\" >2</th>        <th class=\"col_heading level1 col2\" >3</th>        <th class=\"col_heading level1 col3\" >4</th>        <th class=\"col_heading level1 col4\" >5</th>        <th class=\"col_heading level1 col5\" >6</th>        <th class=\"col_heading level1 col6\" >7</th>        <th class=\"col_heading level1 col7\" >8</th>    </tr>    <tr>        <th class=\"index_name level0\" >Hour</th>        <th class=\"blank\" ></th>        <th class=\"blank\" ></th>        <th class=\"blank\" ></th>        <th class=\"blank\" ></th>        <th class=\"blank\" ></th>        <th class=\"blank\" ></th>        <th class=\"blank\" ></th>        <th class=\"blank\" ></th>    </tr></thead><tbody>\n",
       "                <tr>\n",
       "                        <th id=\"T_034ee_level0_row0\" class=\"row_heading level0 row0\" >0</th>\n",
       "                        <td id=\"T_034ee_row0_col0\" class=\"data row0 col0\" >0.074295</td>\n",
       "                        <td id=\"T_034ee_row0_col1\" class=\"data row0 col1\" >0.071145</td>\n",
       "                        <td id=\"T_034ee_row0_col2\" class=\"data row0 col2\" >0.075096</td>\n",
       "                        <td id=\"T_034ee_row0_col3\" class=\"data row0 col3\" >0.076065</td>\n",
       "                        <td id=\"T_034ee_row0_col4\" class=\"data row0 col4\" >0.085143</td>\n",
       "                        <td id=\"T_034ee_row0_col5\" class=\"data row0 col5\" >0.087929</td>\n",
       "                        <td id=\"T_034ee_row0_col6\" class=\"data row0 col6\" >0.088166</td>\n",
       "                        <td id=\"T_034ee_row0_col7\" class=\"data row0 col7\" >0.094246</td>\n",
       "            </tr>\n",
       "            <tr>\n",
       "                        <th id=\"T_034ee_level0_row1\" class=\"row_heading level0 row1\" >1</th>\n",
       "                        <td id=\"T_034ee_row1_col0\" class=\"data row1 col0\" >0.029354</td>\n",
       "                        <td id=\"T_034ee_row1_col1\" class=\"data row1 col1\" >0.028087</td>\n",
       "                        <td id=\"T_034ee_row1_col2\" class=\"data row1 col2\" >0.028650</td>\n",
       "                        <td id=\"T_034ee_row1_col3\" class=\"data row1 col3\" >0.030877</td>\n",
       "                        <td id=\"T_034ee_row1_col4\" class=\"data row1 col4\" >0.031966</td>\n",
       "                        <td id=\"T_034ee_row1_col5\" class=\"data row1 col5\" >0.034405</td>\n",
       "                        <td id=\"T_034ee_row1_col6\" class=\"data row1 col6\" >0.036217</td>\n",
       "                        <td id=\"T_034ee_row1_col7\" class=\"data row1 col7\" >0.036569</td>\n",
       "            </tr>\n",
       "            <tr>\n",
       "                        <th id=\"T_034ee_level0_row2\" class=\"row_heading level0 row2\" >2</th>\n",
       "                        <td id=\"T_034ee_row2_col0\" class=\"data row2 col0\" >0.028510</td>\n",
       "                        <td id=\"T_034ee_row2_col1\" class=\"data row2 col1\" >0.023914</td>\n",
       "                        <td id=\"T_034ee_row2_col2\" class=\"data row2 col2\" >0.025950</td>\n",
       "                        <td id=\"T_034ee_row2_col3\" class=\"data row2 col3\" >0.026538</td>\n",
       "                        <td id=\"T_034ee_row2_col4\" class=\"data row2 col4\" >0.027443</td>\n",
       "                        <td id=\"T_034ee_row2_col5\" class=\"data row2 col5\" >0.033176</td>\n",
       "                        <td id=\"T_034ee_row2_col6\" class=\"data row2 col6\" >0.034371</td>\n",
       "                        <td id=\"T_034ee_row2_col7\" class=\"data row2 col7\" >0.031863</td>\n",
       "            </tr>\n",
       "            <tr>\n",
       "                        <th id=\"T_034ee_level0_row3\" class=\"row_heading level0 row3\" >3</th>\n",
       "                        <td id=\"T_034ee_row3_col0\" class=\"data row3 col0\" >0.022665</td>\n",
       "                        <td id=\"T_034ee_row3_col1\" class=\"data row3 col1\" >0.022986</td>\n",
       "                        <td id=\"T_034ee_row3_col2\" class=\"data row3 col2\" >0.021873</td>\n",
       "                        <td id=\"T_034ee_row3_col3\" class=\"data row3 col3\" >0.023777</td>\n",
       "                        <td id=\"T_034ee_row3_col4\" class=\"data row3 col4\" >0.024930</td>\n",
       "                        <td id=\"T_034ee_row3_col5\" class=\"data row3 col5\" >0.022855</td>\n",
       "                        <td id=\"T_034ee_row3_col6\" class=\"data row3 col6\" >0.028189</td>\n",
       "                        <td id=\"T_034ee_row3_col7\" class=\"data row3 col7\" >0.026284</td>\n",
       "            </tr>\n",
       "            <tr>\n",
       "                        <th id=\"T_034ee_level0_row4\" class=\"row_heading level0 row4\" >4</th>\n",
       "                        <td id=\"T_034ee_row4_col0\" class=\"data row4 col0\" >0.020782</td>\n",
       "                        <td id=\"T_034ee_row4_col1\" class=\"data row4 col1\" >0.016097</td>\n",
       "                        <td id=\"T_034ee_row4_col2\" class=\"data row4 col2\" >0.019174</td>\n",
       "                        <td id=\"T_034ee_row4_col3\" class=\"data row4 col3\" >0.020171</td>\n",
       "                        <td id=\"T_034ee_row4_col4\" class=\"data row4 col4\" >0.019250</td>\n",
       "                        <td id=\"T_034ee_row4_col5\" class=\"data row4 col5\" >0.018333</td>\n",
       "                        <td id=\"T_034ee_row4_col6\" class=\"data row4 col6\" >0.024314</td>\n",
       "                        <td id=\"T_034ee_row4_col7\" class=\"data row4 col7\" >0.021982</td>\n",
       "            </tr>\n",
       "            <tr>\n",
       "                        <th id=\"T_034ee_level0_row5\" class=\"row_heading level0 row5\" >5</th>\n",
       "                        <td id=\"T_034ee_row5_col0\" class=\"data row5 col0\" >0.017080</td>\n",
       "                        <td id=\"T_034ee_row5_col1\" class=\"data row5 col1\" >0.014971</td>\n",
       "                        <td id=\"T_034ee_row5_col2\" class=\"data row5 col2\" >0.015427</td>\n",
       "                        <td id=\"T_034ee_row5_col3\" class=\"data row5 col3\" >0.014931</td>\n",
       "                        <td id=\"T_034ee_row5_col4\" class=\"data row5 col4\" >0.015983</td>\n",
       "                        <td id=\"T_034ee_row5_col5\" class=\"data row5 col5\" >0.017743</td>\n",
       "                        <td id=\"T_034ee_row5_col6\" class=\"data row5 col6\" >0.017116</td>\n",
       "                        <td id=\"T_034ee_row5_col7\" class=\"data row5 col7\" >0.018016</td>\n",
       "            </tr>\n",
       "            <tr>\n",
       "                        <th id=\"T_034ee_level0_row6\" class=\"row_heading level0 row6\" >6</th>\n",
       "                        <td id=\"T_034ee_row6_col0\" class=\"data row6 col0\" >0.018054</td>\n",
       "                        <td id=\"T_034ee_row6_col1\" class=\"data row6 col1\" >0.019277</td>\n",
       "                        <td id=\"T_034ee_row6_col2\" class=\"data row6 col2\" >0.018512</td>\n",
       "                        <td id=\"T_034ee_row6_col3\" class=\"data row6 col3\" >0.018481</td>\n",
       "                        <td id=\"T_034ee_row6_col4\" class=\"data row6 col4\" >0.016184</td>\n",
       "                        <td id=\"T_034ee_row6_col5\" class=\"data row6 col5\" >0.018136</td>\n",
       "                        <td id=\"T_034ee_row6_col6\" class=\"data row6 col6\" >0.018085</td>\n",
       "                        <td id=\"T_034ee_row6_col7\" class=\"data row6 col7\" >0.020167</td>\n",
       "            </tr>\n",
       "            <tr>\n",
       "                        <th id=\"T_034ee_level0_row7\" class=\"row_heading level0 row7\" >7</th>\n",
       "                        <td id=\"T_034ee_row7_col0\" class=\"data row7 col0\" >0.023055</td>\n",
       "                        <td id=\"T_034ee_row7_col1\" class=\"data row7 col1\" >0.027557</td>\n",
       "                        <td id=\"T_034ee_row7_col2\" class=\"data row7 col2\" >0.026391</td>\n",
       "                        <td id=\"T_034ee_row7_col3\" class=\"data row7 col3\" >0.026426</td>\n",
       "                        <td id=\"T_034ee_row7_col4\" class=\"data row7 col4\" >0.025935</td>\n",
       "                        <td id=\"T_034ee_row7_col5\" class=\"data row7 col5\" >0.023494</td>\n",
       "                        <td id=\"T_034ee_row7_col6\" class=\"data row7 col6\" >0.023714</td>\n",
       "                        <td id=\"T_034ee_row7_col7\" class=\"data row7 col7\" >0.023864</td>\n",
       "            </tr>\n",
       "            <tr>\n",
       "                        <th id=\"T_034ee_level0_row8\" class=\"row_heading level0 row8\" >8</th>\n",
       "                        <td id=\"T_034ee_row8_col0\" class=\"data row8 col0\" >0.037018</td>\n",
       "                        <td id=\"T_034ee_row8_col1\" class=\"data row8 col1\" >0.035506</td>\n",
       "                        <td id=\"T_034ee_row8_col2\" class=\"data row8 col2\" >0.034986</td>\n",
       "                        <td id=\"T_034ee_row8_col3\" class=\"data row8 col3\" >0.034708</td>\n",
       "                        <td id=\"T_034ee_row8_col4\" class=\"data row8 col4\" >0.033926</td>\n",
       "                        <td id=\"T_034ee_row8_col5\" class=\"data row8 col5\" >0.032832</td>\n",
       "                        <td id=\"T_034ee_row8_col6\" class=\"data row8 col6\" >0.029481</td>\n",
       "                        <td id=\"T_034ee_row8_col7\" class=\"data row8 col7\" >0.031393</td>\n",
       "            </tr>\n",
       "            <tr>\n",
       "                        <th id=\"T_034ee_level0_row9\" class=\"row_heading level0 row9\" >9</th>\n",
       "                        <td id=\"T_034ee_row9_col0\" class=\"data row9 col0\" >0.041629</td>\n",
       "                        <td id=\"T_034ee_row9_col1\" class=\"data row9 col1\" >0.044780</td>\n",
       "                        <td id=\"T_034ee_row9_col2\" class=\"data row9 col2\" >0.047052</td>\n",
       "                        <td id=\"T_034ee_row9_col3\" class=\"data row9 col3\" >0.044343</td>\n",
       "                        <td id=\"T_034ee_row9_col4\" class=\"data row9 col4\" >0.040661</td>\n",
       "                        <td id=\"T_034ee_row9_col5\" class=\"data row9 col5\" >0.041237</td>\n",
       "                        <td id=\"T_034ee_row9_col6\" class=\"data row9 col6\" >0.038339</td>\n",
       "                        <td id=\"T_034ee_row9_col7\" class=\"data row9 col7\" >0.038518</td>\n",
       "            </tr>\n",
       "            <tr>\n",
       "                        <th id=\"T_034ee_level0_row10\" class=\"row_heading level0 row10\" >10</th>\n",
       "                        <td id=\"T_034ee_row10_col0\" class=\"data row10 col0\" >0.048188</td>\n",
       "                        <td id=\"T_034ee_row10_col1\" class=\"data row10 col1\" >0.043919</td>\n",
       "                        <td id=\"T_034ee_row10_col2\" class=\"data row10 col2\" >0.045344</td>\n",
       "                        <td id=\"T_034ee_row10_col3\" class=\"data row10 col3\" >0.042934</td>\n",
       "                        <td id=\"T_034ee_row10_col4\" class=\"data row10 col4\" >0.041516</td>\n",
       "                        <td id=\"T_034ee_row10_col5\" class=\"data row10 col5\" >0.041581</td>\n",
       "                        <td id=\"T_034ee_row10_col6\" class=\"data row10 col6\" >0.037555</td>\n",
       "                        <td id=\"T_034ee_row10_col7\" class=\"data row10 col7\" >0.040938</td>\n",
       "            </tr>\n",
       "            <tr>\n",
       "                        <th id=\"T_034ee_level0_row11\" class=\"row_heading level0 row11\" >11</th>\n",
       "                        <td id=\"T_034ee_row11_col0\" class=\"data row11 col0\" >0.046954</td>\n",
       "                        <td id=\"T_034ee_row11_col1\" class=\"data row11 col1\" >0.047165</td>\n",
       "                        <td id=\"T_034ee_row11_col2\" class=\"data row11 col2\" >0.046061</td>\n",
       "                        <td id=\"T_034ee_row11_col3\" class=\"data row11 col3\" >0.045808</td>\n",
       "                        <td id=\"T_034ee_row11_col4\" class=\"data row11 col4\" >0.045989</td>\n",
       "                        <td id=\"T_034ee_row11_col5\" class=\"data row11 col5\" >0.043792</td>\n",
       "                        <td id=\"T_034ee_row11_col6\" class=\"data row11 col6\" >0.041061</td>\n",
       "                        <td id=\"T_034ee_row11_col7\" class=\"data row11 col7\" >0.039392</td>\n",
       "            </tr>\n",
       "            <tr>\n",
       "                        <th id=\"T_034ee_level0_row12\" class=\"row_heading level0 row12\" >12</th>\n",
       "                        <td id=\"T_034ee_row12_col0\" class=\"data row12 col0\" >0.059748</td>\n",
       "                        <td id=\"T_034ee_row12_col1\" class=\"data row12 col1\" >0.061142</td>\n",
       "                        <td id=\"T_034ee_row12_col2\" class=\"data row12 col2\" >0.060331</td>\n",
       "                        <td id=\"T_034ee_row12_col3\" class=\"data row12 col3\" >0.062035</td>\n",
       "                        <td id=\"T_034ee_row12_col4\" class=\"data row12 col4\" >0.056996</td>\n",
       "                        <td id=\"T_034ee_row12_col5\" class=\"data row12 col5\" >0.053671</td>\n",
       "                        <td id=\"T_034ee_row12_col6\" class=\"data row12 col6\" >0.050611</td>\n",
       "                        <td id=\"T_034ee_row12_col7\" class=\"data row12 col7\" >0.050013</td>\n",
       "            </tr>\n",
       "            <tr>\n",
       "                        <th id=\"T_034ee_level0_row13\" class=\"row_heading level0 row13\" >13</th>\n",
       "                        <td id=\"T_034ee_row13_col0\" class=\"data row13 col0\" >0.047214</td>\n",
       "                        <td id=\"T_034ee_row13_col1\" class=\"data row13 col1\" >0.048556</td>\n",
       "                        <td id=\"T_034ee_row13_col2\" class=\"data row13 col2\" >0.047824</td>\n",
       "                        <td id=\"T_034ee_row13_col3\" class=\"data row13 col3\" >0.044737</td>\n",
       "                        <td id=\"T_034ee_row13_col4\" class=\"data row13 col4\" >0.042672</td>\n",
       "                        <td id=\"T_034ee_row13_col5\" class=\"data row13 col5\" >0.043792</td>\n",
       "                        <td id=\"T_034ee_row13_col6\" class=\"data row13 col6\" >0.041569</td>\n",
       "                        <td id=\"T_034ee_row13_col7\" class=\"data row13 col7\" >0.043157</td>\n",
       "            </tr>\n",
       "            <tr>\n",
       "                        <th id=\"T_034ee_level0_row14\" class=\"row_heading level0 row14\" >14</th>\n",
       "                        <td id=\"T_034ee_row14_col0\" class=\"data row14 col0\" >0.045525</td>\n",
       "                        <td id=\"T_034ee_row14_col1\" class=\"data row14 col1\" >0.050609</td>\n",
       "                        <td id=\"T_034ee_row14_col2\" class=\"data row14 col2\" >0.050468</td>\n",
       "                        <td id=\"T_034ee_row14_col3\" class=\"data row14 col3\" >0.048794</td>\n",
       "                        <td id=\"T_034ee_row14_col4\" class=\"data row14 col4\" >0.043124</td>\n",
       "                        <td id=\"T_034ee_row14_col5\" class=\"data row14 col5\" >0.044038</td>\n",
       "                        <td id=\"T_034ee_row14_col6\" class=\"data row14 col6\" >0.043783</td>\n",
       "                        <td id=\"T_034ee_row14_col7\" class=\"data row14 col7\" >0.044031</td>\n",
       "            </tr>\n",
       "            <tr>\n",
       "                        <th id=\"T_034ee_level0_row15\" class=\"row_heading level0 row15\" >15</th>\n",
       "                        <td id=\"T_034ee_row15_col0\" class=\"data row15 col0\" >0.054553</td>\n",
       "                        <td id=\"T_034ee_row15_col1\" class=\"data row15 col1\" >0.056902</td>\n",
       "                        <td id=\"T_034ee_row15_col2\" class=\"data row15 col2\" >0.058182</td>\n",
       "                        <td id=\"T_034ee_row15_col3\" class=\"data row15 col3\" >0.053189</td>\n",
       "                        <td id=\"T_034ee_row15_col4\" class=\"data row15 col4\" >0.053227</td>\n",
       "                        <td id=\"T_034ee_row15_col5\" class=\"data row15 col5\" >0.050084</td>\n",
       "                        <td id=\"T_034ee_row15_col6\" class=\"data row15 col6\" >0.048443</td>\n",
       "                        <td id=\"T_034ee_row15_col7\" class=\"data row15 col7\" >0.047661</td>\n",
       "            </tr>\n",
       "            <tr>\n",
       "                        <th id=\"T_034ee_level0_row16\" class=\"row_heading level0 row16\" >16</th>\n",
       "                        <td id=\"T_034ee_row16_col0\" class=\"data row16 col0\" >0.055202</td>\n",
       "                        <td id=\"T_034ee_row16_col1\" class=\"data row16 col1\" >0.055246</td>\n",
       "                        <td id=\"T_034ee_row16_col2\" class=\"data row16 col2\" >0.050744</td>\n",
       "                        <td id=\"T_034ee_row16_col3\" class=\"data row16 col3\" >0.052288</td>\n",
       "                        <td id=\"T_034ee_row16_col4\" class=\"data row16 col4\" >0.050965</td>\n",
       "                        <td id=\"T_034ee_row16_col5\" class=\"data row16 col5\" >0.046692</td>\n",
       "                        <td id=\"T_034ee_row16_col6\" class=\"data row16 col6\" >0.051442</td>\n",
       "                        <td id=\"T_034ee_row16_col7\" class=\"data row16 col7\" >0.049879</td>\n",
       "            </tr>\n",
       "            <tr>\n",
       "                        <th id=\"T_034ee_level0_row17\" class=\"row_heading level0 row17\" >17</th>\n",
       "                        <td id=\"T_034ee_row17_col0\" class=\"data row17 col0\" >0.057085</td>\n",
       "                        <td id=\"T_034ee_row17_col1\" class=\"data row17 col1\" >0.056373</td>\n",
       "                        <td id=\"T_034ee_row17_col2\" class=\"data row17 col2\" >0.053609</td>\n",
       "                        <td id=\"T_034ee_row17_col3\" class=\"data row17 col3\" >0.053527</td>\n",
       "                        <td id=\"T_034ee_row17_col4\" class=\"data row17 col4\" >0.052222</td>\n",
       "                        <td id=\"T_034ee_row17_col5\" class=\"data row17 col5\" >0.051755</td>\n",
       "                        <td id=\"T_034ee_row17_col6\" class=\"data row17 col6\" >0.050750</td>\n",
       "                        <td id=\"T_034ee_row17_col7\" class=\"data row17 col7\" >0.055458</td>\n",
       "            </tr>\n",
       "            <tr>\n",
       "                        <th id=\"T_034ee_level0_row18\" class=\"row_heading level0 row18\" >18</th>\n",
       "                        <td id=\"T_034ee_row18_col0\" class=\"data row18 col0\" >0.056891</td>\n",
       "                        <td id=\"T_034ee_row18_col1\" class=\"data row18 col1\" >0.052597</td>\n",
       "                        <td id=\"T_034ee_row18_col2\" class=\"data row18 col2\" >0.051791</td>\n",
       "                        <td id=\"T_034ee_row18_col3\" class=\"data row18 col3\" >0.053302</td>\n",
       "                        <td id=\"T_034ee_row18_col4\" class=\"data row18 col4\" >0.049005</td>\n",
       "                        <td id=\"T_034ee_row18_col5\" class=\"data row18 col5\" >0.050477</td>\n",
       "                        <td id=\"T_034ee_row18_col6\" class=\"data row18 col6\" >0.050796</td>\n",
       "                        <td id=\"T_034ee_row18_col7\" class=\"data row18 col7\" >0.050686</td>\n",
       "            </tr>\n",
       "            <tr>\n",
       "                        <th id=\"T_034ee_level0_row19\" class=\"row_heading level0 row19\" >19</th>\n",
       "                        <td id=\"T_034ee_row19_col0\" class=\"data row19 col0\" >0.052604</td>\n",
       "                        <td id=\"T_034ee_row19_col1\" class=\"data row19 col1\" >0.052464</td>\n",
       "                        <td id=\"T_034ee_row19_col2\" class=\"data row19 col2\" >0.052507</td>\n",
       "                        <td id=\"T_034ee_row19_col3\" class=\"data row19 col3\" >0.048625</td>\n",
       "                        <td id=\"T_034ee_row19_col4\" class=\"data row19 col4\" >0.051417</td>\n",
       "                        <td id=\"T_034ee_row19_col5\" class=\"data row19 col5\" >0.052688</td>\n",
       "                        <td id=\"T_034ee_row19_col6\" class=\"data row19 col6\" >0.052226</td>\n",
       "                        <td id=\"T_034ee_row19_col7\" class=\"data row19 col7\" >0.051425</td>\n",
       "            </tr>\n",
       "            <tr>\n",
       "                        <th id=\"T_034ee_level0_row20\" class=\"row_heading level0 row20\" >20</th>\n",
       "                        <td id=\"T_034ee_row20_col0\" class=\"data row20 col0\" >0.047733</td>\n",
       "                        <td id=\"T_034ee_row20_col1\" class=\"data row20 col1\" >0.048755</td>\n",
       "                        <td id=\"T_034ee_row20_col2\" class=\"data row20 col2\" >0.048815</td>\n",
       "                        <td id=\"T_034ee_row20_col3\" class=\"data row20 col3\" >0.048682</td>\n",
       "                        <td id=\"T_034ee_row20_col4\" class=\"data row20 col4\" >0.051669</td>\n",
       "                        <td id=\"T_034ee_row20_col5\" class=\"data row20 col5\" >0.050231</td>\n",
       "                        <td id=\"T_034ee_row20_col6\" class=\"data row20 col6\" >0.049319</td>\n",
       "                        <td id=\"T_034ee_row20_col7\" class=\"data row20 col7\" >0.050215</td>\n",
       "            </tr>\n",
       "            <tr>\n",
       "                        <th id=\"T_034ee_level0_row21\" class=\"row_heading level0 row21\" >21</th>\n",
       "                        <td id=\"T_034ee_row21_col0\" class=\"data row21 col0\" >0.040460</td>\n",
       "                        <td id=\"T_034ee_row21_col1\" class=\"data row21 col1\" >0.043654</td>\n",
       "                        <td id=\"T_034ee_row21_col2\" class=\"data row21 col2\" >0.044904</td>\n",
       "                        <td id=\"T_034ee_row21_col3\" class=\"data row21 col3\" >0.046709</td>\n",
       "                        <td id=\"T_034ee_row21_col4\" class=\"data row21 col4\" >0.050563</td>\n",
       "                        <td id=\"T_034ee_row21_col5\" class=\"data row21 col5\" >0.048314</td>\n",
       "                        <td id=\"T_034ee_row21_col6\" class=\"data row21 col6\" >0.050888</td>\n",
       "                        <td id=\"T_034ee_row21_col7\" class=\"data row21 col7\" >0.048669</td>\n",
       "            </tr>\n",
       "            <tr>\n",
       "                        <th id=\"T_034ee_level0_row22\" class=\"row_heading level0 row22\" >22</th>\n",
       "                        <td id=\"T_034ee_row22_col0\" class=\"data row22 col0\" >0.041369</td>\n",
       "                        <td id=\"T_034ee_row22_col1\" class=\"data row22 col1\" >0.042528</td>\n",
       "                        <td id=\"T_034ee_row22_col2\" class=\"data row22 col2\" >0.040275</td>\n",
       "                        <td id=\"T_034ee_row22_col3\" class=\"data row22 col3\" >0.043216</td>\n",
       "                        <td id=\"T_034ee_row22_col4\" class=\"data row22 col4\" >0.046643</td>\n",
       "                        <td id=\"T_034ee_row22_col5\" class=\"data row22 col5\" >0.048560</td>\n",
       "                        <td id=\"T_034ee_row22_col6\" class=\"data row22 col6\" >0.048812</td>\n",
       "                        <td id=\"T_034ee_row22_col7\" class=\"data row22 col7\" >0.043963</td>\n",
       "            </tr>\n",
       "            <tr>\n",
       "                        <th id=\"T_034ee_level0_row23\" class=\"row_heading level0 row23\" >23</th>\n",
       "                        <td id=\"T_034ee_row23_col0\" class=\"data row23 col0\" >0.034030</td>\n",
       "                        <td id=\"T_034ee_row23_col1\" class=\"data row23 col1\" >0.035771</td>\n",
       "                        <td id=\"T_034ee_row23_col2\" class=\"data row23 col2\" >0.036033</td>\n",
       "                        <td id=\"T_034ee_row23_col3\" class=\"data row23 col3\" >0.039835</td>\n",
       "                        <td id=\"T_034ee_row23_col4\" class=\"data row23 col4\" >0.042571</td>\n",
       "                        <td id=\"T_034ee_row23_col5\" class=\"data row23 col5\" >0.044186</td>\n",
       "                        <td id=\"T_034ee_row23_col6\" class=\"data row23 col6\" >0.044752</td>\n",
       "                        <td id=\"T_034ee_row23_col7\" class=\"data row23 col7\" >0.041611</td>\n",
       "            </tr>\n",
       "    </tbody></table>"
      ],
      "text/plain": [
       "<pandas.io.formats.style.Styler at 0x1dc3f596370>"
      ]
     },
     "execution_count": 67,
     "metadata": {},
     "output_type": "execute_result"
    }
   ],
   "source": [
    "cols = ['Month', 'Hour', 'ID']\n",
    "\n",
    "(df\n",
    " .pipe(add_hour_month_column)\n",
    " [cols]\n",
    " .groupby(['Hour', 'Month'])\n",
    " .agg(Count=('ID', 'count'))\n",
    " .unstack()\n",
    " .pipe(percent_of_total)\n",
    " .style.background_gradient(axis=1)\n",
    ")\n",
    "\n",
    "\n",
    "# style.background_gradient(axis=0) "
   ]
  },
  {
   "cell_type": "code",
   "execution_count": 65,
   "metadata": {},
   "outputs": [
    {
     "data": {
      "text/plain": [
       "<matplotlib.legend.Legend at 0x1dc404bb370>"
      ]
     },
     "execution_count": 65,
     "metadata": {},
     "output_type": "execute_result"
    },
    {
     "data": {
      "image/png": "[encoded data removed]",
      "text/plain": [
       "<Figure size 432x288 with 1 Axes>"
      ]
     },
     "metadata": {
      "needs_background": "light"
     },
     "output_type": "display_data"
    }
   ],
   "source": [
    "# replicating same plot with clean axes names, legend etc. \n",
    "\n",
    "cols = ['Month', 'Hour', 'ID']\n",
    "\n",
    "(df\n",
    " .pipe(add_hour_month_column)\n",
    " [cols]\n",
    " .astype({'Month': 'category', 'Hour':'category'})\n",
    " .groupby(['Hour', 'Month'])\n",
    " .agg(Count=('ID', 'count'))\n",
    " .unstack()\n",
    " .add_prefix('Month_')\n",
    " .pipe(lambda piv: piv.set_axis([col[1] for col in piv.columns], axis=1))\n",
    " .pipe(percent_of_total)\n",
    " .plot(title='Trend by hour', ylabel='Percentage of crimes' )\n",
    " .legend(bbox_to_anchor=(1, 1))\n",
    ")"
   ]
  },
  {
   "cell_type": "code",
   "execution_count": 75,
   "metadata": {},
   "outputs": [
    {
     "data": {
      "text/plain": [
       "004XX W VAN BUREN ST     4\n",
       "003XX S RIVERSIDE PLZ    3\n",
       "003XX S CANAL ST         2\n",
       "004XX W JACKSON BLVD     1\n",
       "Name: Block, dtype: int64"
      ]
     },
     "execution_count": 75,
     "metadata": {},
     "output_type": "execute_result"
    }
   ],
   "source": [
    "point_of_interest = []\n",
    "\n",
    "streets = ['04xx w van buren st', '03xx s canal st', '04xx w jackson blvd', '04xx w adams st', '03xx s riverside plz']\n",
    "df.Block[df.Block.str.lower().str.contains('|'.join(streets))].value_counts()"
   ]
  },
  {
   "cell_type": "markdown",
   "metadata": {},
   "source": [
    "### Additional reminders \n",
    "\n",
    "- Try numpy methods especially when working with numbers - strings numpy is also slow \n",
    "- Use pandas vectorization advantages \n",
    "- Some inbuilt functions are  quick "
   ]
  },
  {
   "cell_type": "code",
   "execution_count": 68,
   "metadata": {},
   "outputs": [
    {
     "data": {
      "text/html": [
       "<div>\n",
       "<style scoped>\n",
       "    .dataframe tbody tr th:only-of-type {\n",
       "        vertical-align: middle;\n",
       "    }\n",
       "\n",
       "    .dataframe tbody tr th {\n",
       "        vertical-align: top;\n",
       "    }\n",
       "\n",
       "    .dataframe thead th {\n",
       "        text-align: right;\n",
       "    }\n",
       "</style>\n",
       "<table border=\"1\" class=\"dataframe\">\n",
       "  <thead>\n",
       "    <tr style=\"text-align: right;\">\n",
       "      <th></th>\n",
       "      <th>Primary Type</th>\n",
       "      <th>Description</th>\n",
       "      <th>Arrest Count</th>\n",
       "    </tr>\n",
       "  </thead>\n",
       "  <tbody>\n",
       "    <tr>\n",
       "      <th>0</th>\n",
       "      <td>ARSON</td>\n",
       "      <td>AGGRAVATED</td>\n",
       "      <td>2</td>\n",
       "    </tr>\n",
       "    <tr>\n",
       "      <th>1</th>\n",
       "      <td>ARSON</td>\n",
       "      <td>ATTEMPT ARSON</td>\n",
       "      <td>5</td>\n",
       "    </tr>\n",
       "    <tr>\n",
       "      <th>2</th>\n",
       "      <td>ARSON</td>\n",
       "      <td>BY FIRE</td>\n",
       "      <td>3</td>\n",
       "    </tr>\n",
       "    <tr>\n",
       "      <th>3</th>\n",
       "      <td>ARSON</td>\n",
       "      <td>POSSESSION - EXPLOSIVE / INCENDIARY DEVICE</td>\n",
       "      <td>2</td>\n",
       "    </tr>\n",
       "    <tr>\n",
       "      <th>4</th>\n",
       "      <td>ASSAULT</td>\n",
       "      <td>AGGRAVATED - HANDGUN</td>\n",
       "      <td>327</td>\n",
       "    </tr>\n",
       "    <tr>\n",
       "      <th>...</th>\n",
       "      <td>...</td>\n",
       "      <td>...</td>\n",
       "      <td>...</td>\n",
       "    </tr>\n",
       "    <tr>\n",
       "      <th>223</th>\n",
       "      <td>WEAPONS VIOLATION</td>\n",
       "      <td>UNLAWFUL SALE - HANDGUN</td>\n",
       "      <td>1</td>\n",
       "    </tr>\n",
       "    <tr>\n",
       "      <th>224</th>\n",
       "      <td>WEAPONS VIOLATION</td>\n",
       "      <td>UNLAWFUL USE - HANDGUN</td>\n",
       "      <td>55</td>\n",
       "    </tr>\n",
       "    <tr>\n",
       "      <th>225</th>\n",
       "      <td>WEAPONS VIOLATION</td>\n",
       "      <td>UNLAWFUL USE - OTHER DANGEROUS WEAPON</td>\n",
       "      <td>36</td>\n",
       "    </tr>\n",
       "    <tr>\n",
       "      <th>226</th>\n",
       "      <td>WEAPONS VIOLATION</td>\n",
       "      <td>UNLAWFUL USE - OTHER FIREARM</td>\n",
       "      <td>14</td>\n",
       "    </tr>\n",
       "    <tr>\n",
       "      <th>227</th>\n",
       "      <td>WEAPONS VIOLATION</td>\n",
       "      <td>UNLAWFUL USE / SALE OF AIR RIFLE</td>\n",
       "      <td>9</td>\n",
       "    </tr>\n",
       "  </tbody>\n",
       "</table>\n",
       "<p>228 rows × 3 columns</p>\n",
       "</div>"
      ],
      "text/plain": [
       "          Primary Type                                 Description  \\\n",
       "0                ARSON                                  AGGRAVATED   \n",
       "1                ARSON                               ATTEMPT ARSON   \n",
       "2                ARSON                                     BY FIRE   \n",
       "3                ARSON  POSSESSION - EXPLOSIVE / INCENDIARY DEVICE   \n",
       "4              ASSAULT                        AGGRAVATED - HANDGUN   \n",
       "..                 ...                                         ...   \n",
       "223  WEAPONS VIOLATION                     UNLAWFUL SALE - HANDGUN   \n",
       "224  WEAPONS VIOLATION                      UNLAWFUL USE - HANDGUN   \n",
       "225  WEAPONS VIOLATION       UNLAWFUL USE - OTHER DANGEROUS WEAPON   \n",
       "226  WEAPONS VIOLATION                UNLAWFUL USE - OTHER FIREARM   \n",
       "227  WEAPONS VIOLATION            UNLAWFUL USE / SALE OF AIR RIFLE   \n",
       "\n",
       "     Arrest Count  \n",
       "0               2  \n",
       "1               5  \n",
       "2               3  \n",
       "3               2  \n",
       "4             327  \n",
       "..            ...  \n",
       "223             1  \n",
       "224            55  \n",
       "225            36  \n",
       "226            14  \n",
       "227             9  \n",
       "\n",
       "[228 rows x 3 columns]"
      ]
     },
     "execution_count": 68,
     "metadata": {},
     "output_type": "execute_result"
    }
   ],
   "source": [
    "def get_arrests_by_type(df):\n",
    "    '''\n",
    "    Returs a dataframe of arrests count by type, description \n",
    "    '''\n",
    "    return (df\n",
    "             .query('Arrest==True')\n",
    "             .groupby(['Primary Type', 'Description'])\n",
    "             ['ID']\n",
    "             .count()\n",
    "             .reset_index()\n",
    "             .rename(columns={'ID':'Arrest Count'})\n",
    "            )\n",
    "\n",
    "\n",
    "df_n = get_arrests_by_type(df)\n",
    "df_n"
   ]
  },
  {
   "cell_type": "code",
   "execution_count": 69,
   "metadata": {},
   "outputs": [
    {
     "name": "stdout",
     "output_type": "stream",
     "text": [
      "128 µs ± 22.9 µs per loop (mean ± std. dev. of 7 runs, 10000 loops each)\n"
     ]
    }
   ],
   "source": [
    "# total number of arrests made \n",
    "%timeit df_n['Arrest Count'].sum()"
   ]
  },
  {
   "cell_type": "code",
   "execution_count": 70,
   "metadata": {},
   "outputs": [
    {
     "name": "stdout",
     "output_type": "stream",
     "text": [
      "23.9 µs ± 6.78 µs per loop (mean ± std. dev. of 7 runs, 10000 loops each)\n"
     ]
    }
   ],
   "source": [
    "%timeit df_n['Arrest Count'].values.sum()"
   ]
  },
  {
   "cell_type": "code",
   "execution_count": 71,
   "metadata": {},
   "outputs": [
    {
     "name": "stdout",
     "output_type": "stream",
     "text": [
      "849 µs ± 200 µs per loop (mean ± std. dev. of 7 runs, 1000 loops each)\n"
     ]
    }
   ],
   "source": [
    "# get the top 5 descriptions for arrests \n",
    "%timeit df_n.sort_values(by=['Arrest Count']).tail(5)"
   ]
  },
  {
   "cell_type": "code",
   "execution_count": 72,
   "metadata": {},
   "outputs": [
    {
     "name": "stdout",
     "output_type": "stream",
     "text": [
      "1.64 ms ± 185 µs per loop (mean ± std. dev. of 7 runs, 100 loops each)\n"
     ]
    }
   ],
   "source": [
    "%timeit df_n.nlargest(5, 'Arrest Count')"
   ]
  },
  {
   "cell_type": "code",
   "execution_count": 73,
   "metadata": {},
   "outputs": [
    {
     "name": "stdout",
     "output_type": "stream",
     "text": [
      "648 µs ± 143 µs per loop (mean ± std. dev. of 7 runs, 1000 loops each)\n"
     ]
    }
   ],
   "source": [
    "# apply vs vectorization\n",
    "%timeit df_n['Double Count'] = df_n['Arrest Count'] *2"
   ]
  },
  {
   "cell_type": "code",
   "execution_count": 74,
   "metadata": {},
   "outputs": [
    {
     "name": "stdout",
     "output_type": "stream",
     "text": [
      "1.33 ms ± 124 µs per loop (mean ± std. dev. of 7 runs, 100 loops each)\n"
     ]
    }
   ],
   "source": [
    "%timeit df_n['Double Count'] = df_n['Arrest Count'].apply(lambda x:x*2)"
   ]
  },
  {
   "cell_type": "markdown",
   "metadata": {},
   "source": [
    "## References\n",
    "[Nullable Integers - Medium Post](https://medium.com/when-i-work-data/nullable-integers-4060089f92ec)\n",
    "\n",
    "[Scalling to large datsets - Pandas user guide](https://pandas.pydata.org/pandas-docs/dev/user_guide/scale.html)\n",
    "\n",
    "[Top five tricks for coding in Pandas - Youtube video](https://www.youtube.com/watch?v=AsvqxJaO43g)"
   ]
  },
  {
   "cell_type": "markdown",
   "metadata": {},
   "source": [
    "## DALL-E Image\n",
    "\n",
    "![image](image.png)\n",
    "\n",
    "prompt - A panda teaching other pandas data visualization on a whiteboard, digital art, pencil sketch"
   ]
  },
  {
   "cell_type": "code",
   "execution_count": null,
   "metadata": {},
   "outputs": [],
   "source": []
  },
  {
   "cell_type": "code",
   "execution_count": null,
   "metadata": {},
   "outputs": [],
   "source": []
  }
 ],
 "metadata": {
  "kernelspec": {
   "display_name": "Python 3",
   "language": "python",
   "name": "python3"
  },
  "language_info": {
   "codemirror_mode": {
    "name": "ipython",
    "version": 3
   },
   "file_extension": ".py",
   "mimetype": "text/x-python",
   "name": "python",
   "nbconvert_exporter": "python",
   "pygments_lexer": "ipython3",
   "version": "3.8.5"
  }
 },
 "nbformat": 4,
 "nbformat_minor": 4
}
